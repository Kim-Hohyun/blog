{
 "cells": [
  {
   "cell_type": "markdown",
   "metadata": {},
   "source": [
    "# PTB 데이터셋 다운로드"
   ]
  },
  {
   "cell_type": "code",
   "execution_count": 1,
   "metadata": {},
   "outputs": [],
   "source": [
    "import os\n",
    "\n",
    "if 'ptb.train.txt' in os.listdir('./data'):\n",
    "    with open(\"./ptb.train.txt\", 'r') as f:\n",
    "        text = f.read()        \n",
    "else:\n",
    "    from urllib.request import urlopen\n",
    "    url = 'https://raw.githubusercontent.com/tomsercu/lstm/master/data/ptb.train.txt'\n",
    "    html = urlopen(url)\n",
    "    text = html.read().decode()\n",
    "\n",
    "    with open(\"./ptb.train.txt\", 'w') as f:\n",
    "        f.write(text)\n",
    "        \n",
    "words = text.replace('\\n', '<eos>').strip().split()"
   ]
  },
  {
   "cell_type": "markdown",
   "metadata": {},
   "source": [
    "# N-gram 언어 모델"
   ]
  },
  {
   "cell_type": "code",
   "execution_count": 29,
   "metadata": {},
   "outputs": [
    {
     "name": "stdout",
     "output_type": "stream",
     "text": [
      "i 'll stay with their own previous ventures right into the mississippi river <eos> including employees of what ben stein describes in his new career as a result bankamerica said its fiscal third quarter orders rose N N days N N after spending N N bonds due N ended off N cents payable dec. N <eos> sometime next year <eos> a <unk> drug are liable for its sophisticated <unk> measuring instruments <eos> but is n't going to succeed <eos> but in <unk> direct the direct marketing plan <eos> the second quarter <eos> the company 's value at $ N billion from $\n"
     ]
    }
   ],
   "source": [
    "from random import randint\n",
    "\n",
    "def wordListSum(wordList):\n",
    "    sum = 0\n",
    "    for word, value in wordList.items():\n",
    "        sum += value\n",
    "    return sum\n",
    "\n",
    "# 사전에서 다음에 올 랜덤 단어 선택\n",
    "def retrieveRandomWord(wordList):\n",
    "    randIndex = randint(1, wordListSum(wordList))\n",
    "    for word, value in wordList.items():\n",
    "        randIndex -= value\n",
    "        if randIndex <= 0:\n",
    "            return word\n",
    "\n",
    "# 사전 구축\n",
    "def buildWordDict(words, n=1):\n",
    "    wordDict = {}\n",
    "    for i in range(n, len(words)):\n",
    "        ngram = ' '.join(words[i-n:i])\n",
    "        if ngram not in wordDict:\n",
    "            wordDict[ngram] = {}\n",
    "        if words[i] not in wordDict[ngram]:\n",
    "            wordDict[ngram][words[i]] = 0\n",
    "        wordDict[ngram][words[i]] += 1\n",
    "    return wordDict\n",
    "\n",
    "N = 2\n",
    "wordDict = buildWordDict(words, n=N)\n",
    "\n",
    "#Generate a Markov chain of length 100\n",
    "length = 100\n",
    "chain = ['i', \"'ll\"]\n",
    "for i in range(0, length):\n",
    "    newWord = retrieveRandomWord(wordDict[' '.join(chain[-N:])])\n",
    "    chain.append(newWord)\n",
    "print(' '.join(chain))"
   ]
  },
  {
   "cell_type": "code",
   "execution_count": 31,
   "metadata": {},
   "outputs": [
    {
     "name": "stdout",
     "output_type": "stream",
     "text": [
      "i 'll admit there 's the way many americans would find severe <eos> second the world 's major stock markets continued their rise the agriculture department was set just before the house in N and a number of studies suggest that while technology offers almost endless hope when to do something about it now looks like a duck <eos> it falls from the inside not the obligation to take the deal can be inflation brought on as clients ' money has been pushed below N N from the previously announced sale of the policy <eos> in new york plaza for an undisclosed\n"
     ]
    }
   ],
   "source": [
    "length = 100\n",
    "chain = ['i', \"'ll\"]\n",
    "for i in range(0, length):\n",
    "    newWord = retrieveRandomWord(wordDict[' '.join(chain[-N:])])\n",
    "    chain.append(newWord)\n",
    "print(' '.join(chain))"
   ]
  }
 ],
 "metadata": {
  "kernelspec": {
   "display_name": "Python 3",
   "language": "python",
   "name": "python3"
  },
  "language_info": {
   "codemirror_mode": {
    "name": "ipython",
    "version": 3
   },
   "file_extension": ".py",
   "mimetype": "text/x-python",
   "name": "python",
   "nbconvert_exporter": "python",
   "pygments_lexer": "ipython3",
   "version": "3.7.4"
  },
  "toc": {
   "base_numbering": 1,
   "nav_menu": {},
   "number_sections": true,
   "sideBar": true,
   "skip_h1_title": false,
   "title_cell": "Table of Contents",
   "title_sidebar": "Contents",
   "toc_cell": false,
   "toc_position": {},
   "toc_section_display": true,
   "toc_window_display": false
  },
  "varInspector": {
   "cols": {
    "lenName": 16,
    "lenType": 16,
    "lenVar": 40
   },
   "kernels_config": {
    "python": {
     "delete_cmd_postfix": "",
     "delete_cmd_prefix": "del ",
     "library": "var_list.py",
     "varRefreshCmd": "print(var_dic_list())"
    },
    "r": {
     "delete_cmd_postfix": ") ",
     "delete_cmd_prefix": "rm(",
     "library": "var_list.r",
     "varRefreshCmd": "cat(var_dic_list()) "
    }
   },
   "types_to_exclude": [
    "module",
    "function",
    "builtin_function_or_method",
    "instance",
    "_Feature"
   ],
   "window_display": false
  }
 },
 "nbformat": 4,
 "nbformat_minor": 4
}
