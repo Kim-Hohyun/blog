{
 "cells": [
  {
   "cell_type": "markdown",
   "metadata": {
    "colab_type": "text",
    "id": "pULog2Aza-AZ"
   },
   "source": [
    "이 노트는 캐글의 \"Toxic Comment Classification Challenge\"를 예제로 케라스 활용법을 익히는 데 주안점이 있으며, [1. 간단한 모델 만들기](https://github.com/Kim-Hohyun/Toxic-Comment-Classification-Challenge/blob/master/1.%20%EA%B0%84%EB%8B%A8%ED%95%9C%20%EB%AA%A8%EB%8D%B8%20%EB%A7%8C%EB%93%A4%EA%B8%B0.ipynb)에 이어지는 내용을 담고 있습니다. "
   ]
  },
  {
   "cell_type": "markdown",
   "metadata": {
    "colab_type": "text",
    "id": "GzL4qsNOcL68"
   },
   "source": [
    "# 첫 번째 모델"
   ]
  },
  {
   "cell_type": "code",
   "execution_count": 1,
   "metadata": {
    "colab": {
     "base_uri": "https://localhost:8080/",
     "height": 34
    },
    "colab_type": "code",
    "executionInfo": {
     "elapsed": 2140,
     "status": "ok",
     "timestamp": 1552960032245,
     "user": {
      "displayName": "김호현",
      "photoUrl": "",
      "userId": "14192226292936313885"
     },
     "user_tz": -540
    },
    "id": "7CWf_NNJaMzC",
    "outputId": "93bc07c4-28e8-42bf-f0fb-0937dc21c43e"
   },
   "outputs": [
    {
     "name": "stderr",
     "output_type": "stream",
     "text": [
      "Using TensorFlow backend.\n"
     ]
    }
   ],
   "source": [
    "# 사용할 모듈 임포트\n",
    "import pandas as pd\n",
    "import numpy as np\n",
    "import matplotlib.pyplot as plt\n",
    "from sklearn.model_selection import train_test_split\n",
    "from keras import Input, models, layers, callbacks\n",
    "from keras.preprocessing.text import Tokenizer\n",
    "from keras.preprocessing.sequence import pad_sequences\n",
    "from sklearn.metrics import roc_auc_score\n",
    "from keras.utils import plot_model"
   ]
  },
  {
   "cell_type": "code",
   "execution_count": 2,
   "metadata": {
    "colab": {
     "base_uri": "https://localhost:8080/",
     "height": 198
    },
    "colab_type": "code",
    "executionInfo": {
     "elapsed": 1588,
     "status": "ok",
     "timestamp": 1552960033732,
     "user": {
      "displayName": "김호현",
      "photoUrl": "",
      "userId": "14192226292936313885"
     },
     "user_tz": -540
    },
    "id": "nSygCp31fFn7",
    "outputId": "6d952876-e905-4049-d24d-b24cf9c5a011"
   },
   "outputs": [
    {
     "data": {
      "text/html": [
       "<div>\n",
       "<style scoped>\n",
       "    .dataframe tbody tr th:only-of-type {\n",
       "        vertical-align: middle;\n",
       "    }\n",
       "\n",
       "    .dataframe tbody tr th {\n",
       "        vertical-align: top;\n",
       "    }\n",
       "\n",
       "    .dataframe thead th {\n",
       "        text-align: right;\n",
       "    }\n",
       "</style>\n",
       "<table border=\"1\" class=\"dataframe\">\n",
       "  <thead>\n",
       "    <tr style=\"text-align: right;\">\n",
       "      <th></th>\n",
       "      <th>id</th>\n",
       "      <th>comment_text</th>\n",
       "      <th>toxic</th>\n",
       "      <th>severe_toxic</th>\n",
       "      <th>obscene</th>\n",
       "      <th>threat</th>\n",
       "      <th>insult</th>\n",
       "      <th>identity_hate</th>\n",
       "    </tr>\n",
       "  </thead>\n",
       "  <tbody>\n",
       "    <tr>\n",
       "      <th>0</th>\n",
       "      <td>0000997932d777bf</td>\n",
       "      <td>Explanation\\nWhy the edits made under my usern...</td>\n",
       "      <td>0</td>\n",
       "      <td>0</td>\n",
       "      <td>0</td>\n",
       "      <td>0</td>\n",
       "      <td>0</td>\n",
       "      <td>0</td>\n",
       "    </tr>\n",
       "    <tr>\n",
       "      <th>1</th>\n",
       "      <td>000103f0d9cfb60f</td>\n",
       "      <td>D'aww! He matches this background colour I'm s...</td>\n",
       "      <td>0</td>\n",
       "      <td>0</td>\n",
       "      <td>0</td>\n",
       "      <td>0</td>\n",
       "      <td>0</td>\n",
       "      <td>0</td>\n",
       "    </tr>\n",
       "    <tr>\n",
       "      <th>2</th>\n",
       "      <td>000113f07ec002fd</td>\n",
       "      <td>Hey man, I'm really not trying to edit war. It...</td>\n",
       "      <td>0</td>\n",
       "      <td>0</td>\n",
       "      <td>0</td>\n",
       "      <td>0</td>\n",
       "      <td>0</td>\n",
       "      <td>0</td>\n",
       "    </tr>\n",
       "    <tr>\n",
       "      <th>3</th>\n",
       "      <td>0001b41b1c6bb37e</td>\n",
       "      <td>\"\\nMore\\nI can't make any real suggestions on ...</td>\n",
       "      <td>0</td>\n",
       "      <td>0</td>\n",
       "      <td>0</td>\n",
       "      <td>0</td>\n",
       "      <td>0</td>\n",
       "      <td>0</td>\n",
       "    </tr>\n",
       "    <tr>\n",
       "      <th>4</th>\n",
       "      <td>0001d958c54c6e35</td>\n",
       "      <td>You, sir, are my hero. Any chance you remember...</td>\n",
       "      <td>0</td>\n",
       "      <td>0</td>\n",
       "      <td>0</td>\n",
       "      <td>0</td>\n",
       "      <td>0</td>\n",
       "      <td>0</td>\n",
       "    </tr>\n",
       "  </tbody>\n",
       "</table>\n",
       "</div>"
      ],
      "text/plain": [
       "                 id                                       comment_text  toxic  \\\n",
       "0  0000997932d777bf  Explanation\\nWhy the edits made under my usern...      0   \n",
       "1  000103f0d9cfb60f  D'aww! He matches this background colour I'm s...      0   \n",
       "2  000113f07ec002fd  Hey man, I'm really not trying to edit war. It...      0   \n",
       "3  0001b41b1c6bb37e  \"\\nMore\\nI can't make any real suggestions on ...      0   \n",
       "4  0001d958c54c6e35  You, sir, are my hero. Any chance you remember...      0   \n",
       "\n",
       "   severe_toxic  obscene  threat  insult  identity_hate  \n",
       "0             0        0       0       0              0  \n",
       "1             0        0       0       0              0  \n",
       "2             0        0       0       0              0  \n",
       "3             0        0       0       0              0  \n",
       "4             0        0       0       0              0  "
      ]
     },
     "execution_count": 2,
     "metadata": {
      "tags": []
     },
     "output_type": "execute_result"
    }
   ],
   "source": [
    "data = pd.read_csv('train.csv')\n",
    "data.head()"
   ]
  },
  {
   "cell_type": "markdown",
   "metadata": {
    "colab_type": "text",
    "id": "1wHmksnaf1YD"
   },
   "source": [
    "각 클래스 별로 비율을 확인합니다. 'threat' 클래스의 비율이 특히 낮습니다. "
   ]
  },
  {
   "cell_type": "code",
   "execution_count": 3,
   "metadata": {
    "colab": {
     "base_uri": "https://localhost:8080/",
     "height": 138
    },
    "colab_type": "code",
    "executionInfo": {
     "elapsed": 701,
     "status": "ok",
     "timestamp": 1552960035911,
     "user": {
      "displayName": "김호현",
      "photoUrl": "",
      "userId": "14192226292936313885"
     },
     "user_tz": -540
    },
    "id": "1MShofGjfc6c",
    "outputId": "d52c91c6-d229-475d-adf7-51392c221880"
   },
   "outputs": [
    {
     "data": {
      "text/plain": [
       "toxic            0.095844\n",
       "severe_toxic     0.009996\n",
       "obscene          0.052948\n",
       "threat           0.002996\n",
       "insult           0.049364\n",
       "identity_hate    0.008805\n",
       "dtype: float64"
      ]
     },
     "execution_count": 3,
     "metadata": {
      "tags": []
     },
     "output_type": "execute_result"
    }
   ],
   "source": [
    "classes = ['toxic', 'severe_toxic', 'obscene', 'threat', 'insult', 'identity_hate']\n",
    "data[classes].sum() / len(data)"
   ]
  },
  {
   "cell_type": "markdown",
   "metadata": {
    "colab_type": "text",
    "id": "3iK8ifmAgh8Q"
   },
   "source": [
    "훈련셋과 검증셋을 나눌 때 'threat'의 비율을 맞춰주겠습니다. "
   ]
  },
  {
   "cell_type": "code",
   "execution_count": 0,
   "metadata": {
    "colab": {},
    "colab_type": "code",
    "id": "4nUVhu39fKVF"
   },
   "outputs": [],
   "source": [
    "train_data, val_data = train_test_split(data, \n",
    "                                        test_size=0.2,\n",
    "                                        stratify=data['threat'], \n",
    "                                        random_state=42)"
   ]
  },
  {
   "cell_type": "markdown",
   "metadata": {
    "colab_type": "text",
    "id": "91pKhR1KhXUD"
   },
   "source": [
    "전처리 방식은 이전과 거의 같습니다."
   ]
  },
  {
   "cell_type": "code",
   "execution_count": 0,
   "metadata": {
    "colab": {},
    "colab_type": "code",
    "id": "HInPW5pNiKvM"
   },
   "outputs": [],
   "source": [
    "tokenizer = Tokenizer(num_words = 5000,\n",
    "                      lower=True,\n",
    "                      char_level=True,\n",
    "                      oov_token=True)   # 빈도수가 낮은 단어(상위 4998에 속하지 않는 단어)는 모두 하나의 단어처럼 처리해줍니다.\n",
    "\n",
    "tokenizer.fit_on_texts(train_data['comment_text'])\n",
    "\n",
    "# 상위 4998개의 단어에 대해 2~4999의 자연수를 매핑하고, 1은 oov_token에 배정됩니다. 0은 패딩용입니다.\n",
    "sequences = tokenizer.texts_to_sequences(train_data['comment_text']) \n",
    "val_sequences = tokenizer.texts_to_sequences(val_data['comment_text'])\n",
    "X_train = pad_sequences(sequences, maxlen=250)\n",
    "X_val = pad_sequences(val_sequences, maxlen=250)\n",
    "\n",
    "y_train = np.asarray(train_data[classes])\n",
    "y_val = np.asarray(val_data[classes])"
   ]
  },
  {
   "cell_type": "markdown",
   "metadata": {
    "colab_type": "text",
    "id": "ePOLejKvkjCX"
   },
   "source": [
    "\"Toxic Comment Classification Challenge\"는 각 클래스 별 roc-auc의 평균을 평가 지표로 사용합니다. 모델을 적합시킬 때 변화하는 roc-auc를 관찰하기 위해서 나만의 콜백을 정의합니다."
   ]
  },
  {
   "cell_type": "code",
   "execution_count": 0,
   "metadata": {
    "colab": {},
    "colab_type": "code",
    "id": "VNxJ7v_PkkjX"
   },
   "outputs": [],
   "source": [
    "class Histories(callbacks.Callback):\n",
    "\n",
    "  # 에포크가 끝날 때 아래 콜백이 호출됩니다.\n",
    "  def on_epoch_end(self, epoch, logs={}):\n",
    "    y_pred = self.model.predict(self.validation_data[0]) # self.validation_data를 이용해서 검증셋의 샘플과 레이블을 리스트로 부를 수 있습니다.\n",
    "    _auc_val = roc_auc_score(self.validation_data[1], y_pred)\n",
    "    print(' - auc_val: %s' % str(round(_auc_val, 4)))\n",
    "    return\n",
    "\n",
    "# 사용할 콜백을 하나의 리스트로 묶습니다. EarlyStopping 콜백은 검증 손실값이 떨어지지 않을 때 자동으로 훈련을 멈춥니다.\n",
    "callbacks_list = [\n",
    "    callbacks.EarlyStopping(\n",
    "        monitor='val_loss',\n",
    "        patience=1,\n",
    "    ),\n",
    "    Histories()\n",
    "]\n"
   ]
  },
  {
   "cell_type": "markdown",
   "metadata": {
    "colab_type": "text",
    "id": "BGlLmW0WkkS3"
   },
   "source": [
    "여기서는 Con1D를 사용하겠습니다."
   ]
  },
  {
   "cell_type": "code",
   "execution_count": 0,
   "metadata": {
    "colab": {},
    "colab_type": "code",
    "id": "Vthv4w_CaUhJ"
   },
   "outputs": [],
   "source": [
    "input_tensor = Input(shape=(250,))\n",
    "x = layers.Embedding(5000, 128)(input_tensor)\n",
    "\n",
    "x = layers.Conv1D(256, 5, padding='same', activation='relu')(x)\n",
    "x = layers.Conv1D(256, 5, padding='same', activation='relu')(x)\n",
    "x = layers.MaxPooling1D(2)(x)\n",
    "\n",
    "x = layers.Conv1D(512, 7, padding='same', activation='relu')(x)\n",
    "x = layers.Conv1D(512, 7, padding='same', activation='relu')(x)\n",
    "x = layers.MaxPooling1D(5)(x)\n",
    "\n",
    "x = layers.Flatten()(x)\n",
    "x = layers.Dense(1024, activation='sigmoid')(x) # relu로 하면 성능이 안 나옵니다. 이유는 모르겠습니다... \n",
    "output_tensor = layers.Dense(6, activation='sigmoid')(x) # 6개의 클래스 별 확률을 구해야 하기 때문에 마지막 층의 아웃풋은 6으로 지정합니다.\n",
    "\n",
    "model = models.Model(input_tensor, output_tensor)"
   ]
  },
  {
   "cell_type": "code",
   "execution_count": 0,
   "metadata": {
    "colab": {},
    "colab_type": "code",
    "id": "6Uh59TgXlwFX"
   },
   "outputs": [],
   "source": [
    "model.compile(optimizer='rmsprop', loss='binary_crossentropy')"
   ]
  },
  {
   "cell_type": "code",
   "execution_count": 25,
   "metadata": {
    "colab": {
     "base_uri": "https://localhost:8080/",
     "height": 190
    },
    "colab_type": "code",
    "executionInfo": {
     "elapsed": 578403,
     "status": "ok",
     "timestamp": 1552962207438,
     "user": {
      "displayName": "김호현",
      "photoUrl": "",
      "userId": "14192226292936313885"
     },
     "user_tz": -540
    },
    "id": "vIPz7rXmlxLM",
    "outputId": "93a3745d-9175-49b4-c0fc-f3a6f0a50090"
   },
   "outputs": [
    {
     "name": "stdout",
     "output_type": "stream",
     "text": [
      "Train on 127656 samples, validate on 31915 samples\n",
      "Epoch 1/30\n",
      "127656/127656 [==============================] - 174s 1ms/step - loss: 0.1016 - val_loss: 0.0700\n",
      " - auc_val: 0.9417\n",
      "Epoch 2/30\n",
      "127656/127656 [==============================] - 173s 1ms/step - loss: 0.0632 - val_loss: 0.0538\n",
      " - auc_val: 0.9694\n",
      "Epoch 3/30\n",
      "127656/127656 [==============================] - 173s 1ms/step - loss: 0.0545 - val_loss: 0.0552\n",
      " - auc_val: 0.9722\n"
     ]
    }
   ],
   "source": [
    "history = model.fit(X_train, y_train, epochs=30, batch_size=256, \n",
    "                    validation_data=(X_val, y_val),\n",
    "                    callbacks=callbacks_list)"
   ]
  },
  {
   "cell_type": "markdown",
   "metadata": {
    "colab_type": "text",
    "id": "gUeJ7JLdmyGS"
   },
   "source": [
    "# 두 번째 모델\n",
    "\n",
    "두 번째 모델은 모델의 층은 첫 번째 모델과 거의 같게 만들고 전처리 방식을 다르게 해보겠습니다. 여기서는 단어 대신 개별 문자(a, b, c, ...)를 토큰화합니다.\n"
   ]
  },
  {
   "cell_type": "code",
   "execution_count": 0,
   "metadata": {
    "colab": {},
    "colab_type": "code",
    "id": "pO2UdDs_mUu4"
   },
   "outputs": [],
   "source": [
    "char_tokenizer = Tokenizer(num_words = 60,\n",
    "                      lower=True,\n",
    "                      char_level=True,\n",
    "                      oov_token=True)  \n",
    "\n",
    "char_tokenizer.fit_on_texts(train_data['comment_text'])\n",
    "\n",
    "char_sequences = char_tokenizer.texts_to_sequences(train_data['comment_text']) \n",
    "char_val_sequences = char_tokenizer.texts_to_sequences(val_data['comment_text'])\n",
    "char_X_train = pad_sequences(char_sequences, maxlen=800)\n",
    "char_X_val = pad_sequences(char_val_sequences, maxlen=800)\n",
    "\n",
    "\n",
    "X_train, X_val = text_to_array()"
   ]
  },
  {
   "cell_type": "code",
   "execution_count": 45,
   "metadata": {
    "colab": {
     "base_uri": "https://localhost:8080/",
     "height": 294
    },
    "colab_type": "code",
    "executionInfo": {
     "elapsed": 1815618,
     "status": "ok",
     "timestamp": 1552971453835,
     "user": {
      "displayName": "김호현",
      "photoUrl": "",
      "userId": "14192226292936313885"
     },
     "user_tz": -540
    },
    "id": "0qEyVJ5BnLuv",
    "outputId": "62e96b33-eee4-4c0c-eade-a188bfb97e0b"
   },
   "outputs": [
    {
     "name": "stdout",
     "output_type": "stream",
     "text": [
      "Train on 127656 samples, validate on 31915 samples\n",
      "Epoch 1/30\n",
      "127656/127656 [==============================] - 328s 3ms/step - loss: 0.1071 - val_loss: 0.0755\n",
      " - auc_val: 0.9444\n",
      "Epoch 2/30\n",
      "127656/127656 [==============================] - 326s 3ms/step - loss: 0.0662 - val_loss: 0.0622\n",
      " - auc_val: 0.9647\n",
      "Epoch 3/30\n",
      "127656/127656 [==============================] - 326s 3ms/step - loss: 0.0562 - val_loss: 0.0509\n",
      " - auc_val: 0.9739\n",
      "Epoch 4/30\n",
      "127656/127656 [==============================] - 326s 3ms/step - loss: 0.0515 - val_loss: 0.0501\n",
      " - auc_val: 0.9765\n",
      "Epoch 5/30\n",
      "127656/127656 [==============================] - 326s 3ms/step - loss: 0.0482 - val_loss: 0.0556\n",
      " - auc_val: 0.9722\n"
     ]
    }
   ],
   "source": [
    "input_tensor = Input(shape=(800,))\n",
    "x = layers.Embedding(60, 128)(input_tensor)\n",
    "\n",
    "x = layers.Conv1D(256, 5, padding='same', activation='relu')(x)\n",
    "x = layers.Conv1D(256, 5, padding='same', activation='relu')(x)\n",
    "x = layers.MaxPooling1D(5)(x)\n",
    "\n",
    "x = layers.Conv1D(512, 7, padding='same', activation='relu')(x)\n",
    "x = layers.Conv1D(512, 7, padding='same', activation='relu')(x)\n",
    "x = layers.MaxPooling1D(5)(x)\n",
    "\n",
    "x = layers.Flatten()(x)\n",
    "x = layers.Dense(1024, activation='sigmoid')(x) \n",
    "output_tensor = layers.Dense(6, activation='sigmoid')(x) \n",
    "\n",
    "char_model = models.Model(input_tensor, output_tensor)\n",
    "char_model.compile(optimizer='rmsprop', loss='binary_crossentropy') \n",
    "\n",
    "char_history = char_model.fit(char_X_train, y_train, epochs=30, batch_size=256, \n",
    "                    validation_data=(char_X_val, y_val),\n",
    "                    callbacks=callbacks_list)"
   ]
  },
  {
   "cell_type": "markdown",
   "metadata": {
    "colab_type": "text",
    "id": "_a2f-x9RnxJ3"
   },
   "source": [
    "# 앙상블"
   ]
  },
  {
   "cell_type": "code",
   "execution_count": 47,
   "metadata": {
    "colab": {
     "base_uri": "https://localhost:8080/",
     "height": 34
    },
    "colab_type": "code",
    "executionInfo": {
     "elapsed": 56430,
     "status": "ok",
     "timestamp": 1552971595952,
     "user": {
      "displayName": "김호현",
      "photoUrl": "",
      "userId": "14192226292936313885"
     },
     "user_tz": -540
    },
    "id": "phiSLlntnzRY",
    "outputId": "03ce216e-8c98-4013-f32a-0deeb7a854e2"
   },
   "outputs": [
    {
     "data": {
      "text/plain": [
       "(0.9722092430202095, 0.9721930718295222)"
      ]
     },
     "execution_count": 47,
     "metadata": {
      "tags": []
     },
     "output_type": "execute_result"
    }
   ],
   "source": [
    "# 검증셋에 대한 두 모델의 roc_auc 수치가 비슷하게 나왔다.\n",
    "model1_pred = model.predict(X_val)\n",
    "model2_pred = char_model.predict(char_X_val)\n",
    "\n",
    "roc_auc_score(y_val, model1_pred), roc_auc_score(y_val, model2_pred)"
   ]
  },
  {
   "cell_type": "code",
   "execution_count": 64,
   "metadata": {
    "colab": {
     "base_uri": "https://localhost:8080/",
     "height": 34
    },
    "colab_type": "code",
    "executionInfo": {
     "elapsed": 833,
     "status": "ok",
     "timestamp": 1552971939947,
     "user": {
      "displayName": "김호현",
      "photoUrl": "",
      "userId": "14192226292936313885"
     },
     "user_tz": -540
    },
    "id": "h95sSwh8UJEg",
    "outputId": "693f96cd-53a3-4f99-c616-22e2242768d1"
   },
   "outputs": [
    {
     "data": {
      "text/plain": [
       "0.9776605169387826"
      ]
     },
     "execution_count": 64,
     "metadata": {
      "tags": []
     },
     "output_type": "execute_result"
    }
   ],
   "source": [
    "# 두 모델의 예측 확률을 평균내어 roc_auc 수치를 구해보자.\n",
    "ensemble_model = (model1_pred + model2_pred) / 2\n",
    "roc_auc_score(y_val, ensemble_model)"
   ]
  },
  {
   "cell_type": "markdown",
   "metadata": {
    "colab_type": "text",
    "id": "4GR7kzQLV9ul"
   },
   "source": [
    "성능이 향상되었다!"
   ]
  },
  {
   "cell_type": "code",
   "execution_count": 0,
   "metadata": {
    "colab": {},
    "colab_type": "code",
    "id": "GlgVrxyzVcLV"
   },
   "outputs": [],
   "source": []
  }
 ],
 "metadata": {
  "accelerator": "GPU",
  "colab": {
   "collapsed_sections": [],
   "name": "깃허브 용.ipynb",
   "provenance": [],
   "version": "0.3.2"
  },
  "kernelspec": {
   "display_name": "Python 3",
   "language": "python",
   "name": "python3"
  },
  "language_info": {
   "codemirror_mode": {
    "name": "ipython",
    "version": 3
   },
   "file_extension": ".py",
   "mimetype": "text/x-python",
   "name": "python",
   "nbconvert_exporter": "python",
   "pygments_lexer": "ipython3",
   "version": "3.6.8"
  }
 },
 "nbformat": 4,
 "nbformat_minor": 1
}
