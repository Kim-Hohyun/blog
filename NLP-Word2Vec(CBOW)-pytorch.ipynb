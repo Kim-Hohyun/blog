{
  "nbformat": 4,
  "nbformat_minor": 0,
  "metadata": {
    "kernelspec": {
      "display_name": "Python 3",
      "language": "python",
      "name": "python3"
    },
    "varInspector": {
      "cols": {
        "lenName": 16,
        "lenType": 16,
        "lenVar": 40
      },
      "kernels_config": {
        "python": {
          "delete_cmd_postfix": "",
          "delete_cmd_prefix": "del ",
          "library": "var_list.py",
          "varRefreshCmd": "print(var_dic_list())"
        },
        "r": {
          "delete_cmd_postfix": ") ",
          "delete_cmd_prefix": "rm(",
          "library": "var_list.r",
          "varRefreshCmd": "cat(var_dic_list()) "
        }
      },
      "types_to_exclude": [
        "module",
        "function",
        "builtin_function_or_method",
        "instance",
        "_Feature"
      ],
      "window_display": false
    },
    "colab": {
      "name": "CBOW.ipynb",
      "provenance": [],
      "collapsed_sections": []
    },
    "accelerator": "GPU"
  },
  "cells": [
    {
      "cell_type": "markdown",
      "metadata": {
        "id": "bK85zKGI6KcX",
        "colab_type": "text"
      },
      "source": [
        "# CBOW\n",
        "\n",
        "Word2Vec 모델 중 하나인 **CBOW**(continuous bag-of-words)를 파이토치로 구현합니다. 《밑바닥부터 시작하는 딥러닝 2》을 참고했습니다."
      ]
    },
    {
      "cell_type": "markdown",
      "metadata": {
        "id": "SkvbmA2dUgu0",
        "colab_type": "text"
      },
      "source": [
        "## PTB 데이터 불러오기\n",
        "\n",
        "**펜 트리뱅크**(Penn Treebank, PTB) 데이터셋. word2vec 발명자인 토마스 미콜로프(Tomas Mikolov) 웹 페이지에서 받을 수 있습니다. 원래의 PTB 문장에 몇 가지 전처리가 되어있습니다. 희소한 단어는 `<unk>`로 치환되어 있다던가, 구체적인 숫자는 `N`으로 대체되어 있습니다."
      ]
    },
    {
      "cell_type": "code",
      "metadata": {
        "id": "NggcSlSH6KcZ",
        "colab_type": "code",
        "colab": {}
      },
      "source": [
        "import os\n",
        "\n",
        "if 'ptb.train.txt' in os.listdir():\n",
        "    with open(\"ptb.train.txt\", 'r') as f:\n",
        "        text = f.read()        \n",
        "else:\n",
        "    from urllib.request import urlopen\n",
        "    url = 'https://raw.githubusercontent.com/tomsercu/lstm/master/data/ptb.train.txt'\n",
        "    html = urlopen(url)\n",
        "    text = html.read().decode()\n",
        "\n",
        "    with open(\"ptb.train.txt\", 'w') as f:\n",
        "        f.write(text)\n",
        "    "
      ],
      "execution_count": 0,
      "outputs": []
    },
    {
      "cell_type": "markdown",
      "metadata": {
        "id": "eyHnnAv66Kce",
        "colab_type": "text"
      },
      "source": [
        "## 훈련셋 만들기\n",
        "\n",
        "윈도우 내의 단어로 가운데 단어를 추론합니다. 여기서의 함수는 skip-gram 모델에서도 사용할 수 있습니다. skip-gram에서는 단순히 맥락과 타깃을 바꿔주기만 하면 됩니다."
      ]
    },
    {
      "cell_type": "markdown",
      "metadata": {
        "id": "iA9Tu0GDZsS_",
        "colab_type": "text"
      },
      "source": [
        "### 함수 정의"
      ]
    },
    {
      "cell_type": "code",
      "metadata": {
        "id": "RhfQWvJt6Kci",
        "colab_type": "code",
        "colab": {}
      },
      "source": [
        "import numpy as np\n",
        "\n",
        "# 전처리\n",
        "def preprocess(text):\n",
        "    \n",
        "    words = text.replace('\\n', '<eos>').strip().split()\n",
        "    word_to_id = {}\n",
        "    id_to_word = {}\n",
        "    for word in words:\n",
        "        if word not in word_to_id:\n",
        "            new_id = len(word_to_id)\n",
        "            word_to_id[word] = new_id\n",
        "            id_to_word[new_id] = word\n",
        "    \n",
        "    corpus = np.array([word_to_id[w] for w in words])\n",
        "    \n",
        "    return corpus, word_to_id, id_to_word\n",
        "\n",
        "# 훈련셋 만들기\n",
        "def create_contexts_target(corpus, window_size=1):\n",
        "    target = corpus[window_size:-window_size]\n",
        "    contexts = []\n",
        "    \n",
        "    for idx in range(window_size, len(corpus)-window_size):\n",
        "        cs = []\n",
        "        for t in range(-window_size, window_size+1):\n",
        "            if t == 0:\n",
        "                continue\n",
        "            cs.append(corpus[idx+t])\n",
        "        contexts.append(cs)\n",
        "        \n",
        "    return np.array(contexts), np.array(target)"
      ],
      "execution_count": 0,
      "outputs": []
    },
    {
      "cell_type": "markdown",
      "metadata": {
        "id": "sWCkxZNfZpW1",
        "colab_type": "text"
      },
      "source": [
        "### 실행"
      ]
    },
    {
      "cell_type": "code",
      "metadata": {
        "id": "eqvfkMfPZrV8",
        "colab_type": "code",
        "colab": {}
      },
      "source": [
        "window_size = 5\n",
        "\n",
        "# 훈련셋 만들기\n",
        "corpus, word_to_id, id_to_word = preprocess(text)\n",
        "contexts, target = create_contexts_target(corpus, window_size)"
      ],
      "execution_count": 0,
      "outputs": []
    },
    {
      "cell_type": "markdown",
      "metadata": {
        "id": "eJv6I5daWEng",
        "colab_type": "text"
      },
      "source": [
        "## CBOW, 훈련 모델 정의하기"
      ]
    },
    {
      "cell_type": "code",
      "metadata": {
        "id": "eAJSHL6W6Kcy",
        "colab_type": "code",
        "colab": {}
      },
      "source": [
        "import time\n",
        "import matplotlib.pyplot as plt\n",
        "import torch\n",
        "from torch import nn, optim \n",
        "from torch.utils.data import TensorDataset, DataLoader\n",
        "\n",
        "\n",
        "# 모델을 훈련할 때 사용할 클래스\n",
        "class Trainer():\n",
        "    def __init__(self, model, optimizer):\n",
        "        self.device = 'cuda' if torch.cuda.is_available() else 'cpu'\n",
        "        self.model = model.to(self.device)\n",
        "        self.optimizer = optimizer\n",
        "        self.loss_list = []\n",
        "        self.eval_interval = None        \n",
        "        self.current_epoch = 0\n",
        "\n",
        "    def fit(self, x, y, max_epoch=10, batch_size=32, verbose=True):\n",
        "        x = torch.tensor(x)\n",
        "        y = torch.tensor(y)\n",
        "        dataset = TensorDataset(x, y)\n",
        "        loader = DataLoader(dataset, batch_size, shuffle=True, drop_last=True)\n",
        "        max_iters = len(loader)\n",
        "\n",
        "        total_loss = 0\n",
        "        start_time = time.time()\n",
        "        for epoch in range(max_epoch):\n",
        "            running_loss = 0\n",
        "            for iters, (xx, yy) in enumerate(loader):\n",
        "                xx = xx.to(self.device)\n",
        "                yy = yy.to(self.device)\n",
        "                loss = self.model(xx, yy, self.device)\n",
        "                self.optimizer.zero_grad()\n",
        "                loss.backward()\n",
        "                self.optimizer.step()\n",
        "                total_loss += loss.item()\n",
        "            self.current_epoch += 1\n",
        "\n",
        "            # 평가\n",
        "            if verbose:\n",
        "                avg_loss = total_loss / max_iters\n",
        "                elapsed_time = time.time() - start_time\n",
        "                print('| 에폭 %d |  반복 %d / %d | 시간 %d[s] | 손실 %.3f'\n",
        "                        % (self.current_epoch, iters + 1, max_iters, elapsed_time, avg_loss))\n",
        "                self.loss_list.append(avg_loss)\n",
        "                total_loss = 0\n",
        "\n",
        "    def plot(self):\n",
        "        x = np.arange(len(self.loss_list))\n",
        "        plt.plot(x, self.loss_list, label='train')\n",
        "        plt.xlabel('epoch')\n",
        "        plt.ylabel('loss')\n",
        "        plt.show()\n",
        "\n",
        "# 네거티브 샘플링을 위한 클래스\n",
        "class UnigramSampler():\n",
        "    def __init__(self, corpus, power=0.75, sample_size=5):\n",
        "        self.sample_size = sample_size\n",
        "        corpus = torch.tensor(corpus)\n",
        "        self.weight = torch.bincount(corpus).float() ** power\n",
        "    \n",
        "    def get_negative_sample(self, y):\n",
        "        # 부정적 예에 타깃이 포함될 수 있다.\n",
        "        # 계산량과 구현상 편의를 위해 아래와 같이 구현\n",
        "        n_samples = torch.multinomial(self.weight, y.nelement()*self.sample_size, replacement=True)\n",
        "        n_samples = n_samples.view(len(y), -1)\n",
        "        return n_samples\n",
        "\n",
        "# CBOW 모델\n",
        "class CBOW(nn.Module):\n",
        "    def __init__(self, corpus, hidden_size):\n",
        "        super().__init__()\n",
        "        \n",
        "        V = len(np.unique(corpus))\n",
        "        H = hidden_size\n",
        "        \n",
        "        # 계층 생성\n",
        "        self.sampler = UnigramSampler(corpus)\n",
        "        self.emb1 = nn.Embedding(V, H)\n",
        "        self.emb2 = nn.Embedding(V, H)\n",
        "        nn.init.normal_(self.emb1.weight, 0, 0.01)\n",
        "        nn.init.normal_(self.emb2.weight, 0, 0.01)\n",
        "        self.loss_fn = nn.BCEWithLogitsLoss(reduction='sum')\n",
        "        \n",
        "        \n",
        "    def forward(self, x, y, device='cpu'):\n",
        "\n",
        "        h = self.emb1(x) # batch size, context size, embedding dim\n",
        "        h = h.mean(1)    # batch size, embedding dim\n",
        "        \n",
        "        # 긍정\n",
        "        target_W = self.emb2(y)                               # batch size, embedding dim\n",
        "        p_scores = torch.sum(h * target_W, 1)                 # batch size\n",
        "        p_loss = self.loss_fn(p_scores, torch.ones(p_scores.shape, device=device))\n",
        "\n",
        "        # 부정\n",
        "        n_samples = self.sampler.get_negative_sample(y).to(device)       # batch size, negative sample size\n",
        "        target_W = self.emb2(n_samples)                       # batch size, negative sample size, embedding dim\n",
        "        n_scores = torch.sum(h * target_W.transpose(0, 1), 2) # negative sample size, batch size\n",
        "        n_loss = self.loss_fn(n_scores, torch.zeros(n_scores.shape, device=device))\n",
        "        \n",
        "        # 평균 손실\n",
        "        loss = (n_loss + p_loss) / (p_scores.nelement() + n_scores.nelement())\n",
        "        \n",
        "        return loss\n",
        "    \n",
        "    def word_vecs(self):\n",
        "        return self.emb1.weight.data.cpu().numpy()"
      ],
      "execution_count": 0,
      "outputs": []
    },
    {
      "cell_type": "markdown",
      "metadata": {
        "id": "9A5-73kCZhjH",
        "colab_type": "text"
      },
      "source": [
        "### 실행"
      ]
    },
    {
      "cell_type": "code",
      "metadata": {
        "id": "8i2A5IOI-HYN",
        "colab_type": "code",
        "outputId": "dbb25245-f7c6-4972-db05-b05202560141",
        "colab": {
          "base_uri": "https://localhost:8080/",
          "height": 297
        }
      },
      "source": [
        "hidden_size = 100\n",
        "batch_size = 128\n",
        "max_epoch = 15\n",
        "verbose = True\n",
        "\n",
        "# 모델 생성\n",
        "model = CBOW(corpus, hidden_size)\n",
        "optimizer = optim.Adam(model.parameters())\n",
        "trainer = Trainer(model, optimizer)\n",
        "trainer.fit(contexts, target, max_epoch, batch_size, verbose)"
      ],
      "execution_count": 0,
      "outputs": [
        {
          "output_type": "stream",
          "text": [
            "| 에폭 1 |  반복 7262 / 7262 | 시간 35[s] | 손실 0.410\n",
            "| 에폭 2 |  반복 7262 / 7262 | 시간 70[s] | 손실 0.356\n",
            "| 에폭 3 |  반복 7262 / 7262 | 시간 105[s] | 손실 0.328\n",
            "| 에폭 4 |  반복 7262 / 7262 | 시간 141[s] | 손실 0.310\n",
            "| 에폭 5 |  반복 7262 / 7262 | 시간 176[s] | 손실 0.296\n",
            "| 에폭 6 |  반복 7262 / 7262 | 시간 212[s] | 손실 0.284\n",
            "| 에폭 7 |  반복 7262 / 7262 | 시간 247[s] | 손실 0.274\n",
            "| 에폭 8 |  반복 7262 / 7262 | 시간 283[s] | 손실 0.265\n",
            "| 에폭 9 |  반복 7262 / 7262 | 시간 318[s] | 손실 0.257\n",
            "| 에폭 10 |  반복 7262 / 7262 | 시간 353[s] | 손실 0.250\n",
            "| 에폭 11 |  반복 7262 / 7262 | 시간 389[s] | 손실 0.243\n",
            "| 에폭 12 |  반복 7262 / 7262 | 시간 424[s] | 손실 0.237\n",
            "| 에폭 13 |  반복 7262 / 7262 | 시간 459[s] | 손실 0.232\n",
            "| 에폭 14 |  반복 7262 / 7262 | 시간 494[s] | 손실 0.227\n",
            "| 에폭 15 |  반복 7262 / 7262 | 시간 530[s] | 손실 0.223\n"
          ],
          "name": "stdout"
        }
      ]
    },
    {
      "cell_type": "code",
      "metadata": {
        "id": "nHL4vfsgSn-4",
        "colab_type": "code",
        "outputId": "f75b439d-ba4c-4a56-abb9-25b5a60ec5c1",
        "colab": {
          "base_uri": "https://localhost:8080/",
          "height": 279
        }
      },
      "source": [
        "trainer.plot()"
      ],
      "execution_count": 0,
      "outputs": [
        {
          "output_type": "display_data",
          "data": {
            "image/png": "[encoded data removed]",
            "text/plain": [
              "<Figure size 432x288 with 1 Axes>"
            ]
          },
          "metadata": {
            "tags": [],
            "needs_background": "light"
          }
        }
      ]
    },
    {
      "cell_type": "markdown",
      "metadata": {
        "id": "ORyvD0kkZLVV",
        "colab_type": "text"
      },
      "source": [
        "## 평가\n",
        "\n",
        "특정 단어를 넣었을 때 유사한 단어를 가려낼 수 있는지, 그리고 단어 간 비유적 관계를 찾아낼 수 있는지를 볼 것입니다."
      ]
    },
    {
      "cell_type": "markdown",
      "metadata": {
        "id": "KXGnuqwoZbRt",
        "colab_type": "text"
      },
      "source": [
        "### 함수 정의"
      ]
    },
    {
      "cell_type": "code",
      "metadata": {
        "id": "a7loUsSyZPIG",
        "colab_type": "code",
        "colab": {}
      },
      "source": [
        "def most_similar(query, word_to_id, id_to_word, similarity_matirx, top=5):\n",
        "    if query not in word_to_id:\n",
        "        print('%s(을)를 찾을 수 없습니다.' % query)\n",
        "        return\n",
        "    \n",
        "    print('\\n[query] ' + query)\n",
        "    query_id = word_to_id[query]\n",
        "    similarity = similarity_matirx[query_id]\n",
        "    \n",
        "    # 코사인 유사도 기준으로 내림차순으로 출력\n",
        "    count = 0\n",
        "    for i in (-1 * similarity).argsort():\n",
        "        if id_to_word[i] == query:\n",
        "            continue\n",
        "        print(' %s: %s' % (id_to_word[i], similarity[i]))\n",
        "        \n",
        "        count += 1\n",
        "        if count >= top:\n",
        "            return\n",
        "\n",
        "def analogy(a, b, c, word_to_id, id_to_word, word_vecs, top=5):\n",
        "    for word in (a, b, c):\n",
        "        if word not in word_to_id:\n",
        "            print('%s(을)를 찾을 수 없습니다.' % word)\n",
        "            return\n",
        "\n",
        "    print('\\n[analogy] ' + a + ':' + b + ' = ' + c + ':?')\n",
        "    a_vec, b_vec, c_vec = word_vecs[word_to_id[a]], word_vecs[word_to_id[b]], word_vecs[word_to_id[c]]\n",
        "    query_vec = b_vec - a_vec + c_vec\n",
        "    word_vecs_norm = word_vecs / np.linalg.norm(word_vecs, axis=1, keepdims=True)\n",
        "    similarity = np.dot(word_vecs_norm, query_vec)\n",
        "\n",
        "    count = 0\n",
        "    for i in (-1 * similarity).argsort():\n",
        "        if id_to_word[i] in (a, b, c):\n",
        "            continue\n",
        "        print(' {0}: {1}'.format(id_to_word[i], similarity[i]))\n",
        "\n",
        "        count += 1\n",
        "        if count >= top:\n",
        "            return"
      ],
      "execution_count": 0,
      "outputs": []
    },
    {
      "cell_type": "markdown",
      "metadata": {
        "id": "BGN5fA9XZePB",
        "colab_type": "text"
      },
      "source": [
        "### 실행"
      ]
    },
    {
      "cell_type": "code",
      "metadata": {
        "id": "3YrDoSagVugY",
        "colab_type": "code",
        "outputId": "62232736-91bf-4b6f-b204-b75a86a44c65",
        "colab": {
          "base_uri": "https://localhost:8080/",
          "height": 540
        }
      },
      "source": [
        "from sklearn.metrics.pairwise import cosine_similarity\n",
        "\n",
        "word_vecs = model.word_vecs()\n",
        "similarity_matirx = cosine_similarity(word_vecs)\n",
        "\n",
        "querys = ['you', 'year', 'car', 'toyota']\n",
        "for query in querys:\n",
        "    most_similar(query, word_to_id, id_to_word, similarity_matirx)"
      ],
      "execution_count": 0,
      "outputs": [
        {
          "output_type": "stream",
          "text": [
            "\n",
            "[query] you\n",
            " we: 0.65359443\n",
            " i: 0.649264\n",
            " your: 0.58959234\n",
            " they: 0.58778715\n",
            " weird: 0.53438616\n",
            "\n",
            "[query] year\n",
            " month: 0.8382436\n",
            " week: 0.7372195\n",
            " spring: 0.73113346\n",
            " summer: 0.7276939\n",
            " decade: 0.6937586\n",
            "\n",
            "[query] car\n",
            " auto: 0.5592951\n",
            " cars: 0.5575627\n",
            " luxury: 0.5514948\n",
            " truck: 0.54987234\n",
            " window: 0.5421118\n",
            "\n",
            "[query] toyota\n",
            " seita: 0.604759\n",
            " nec: 0.5632381\n",
            " cars: 0.5625669\n",
            " beretta: 0.5597588\n",
            " coated: 0.5569509\n"
          ],
          "name": "stdout"
        }
      ]
    },
    {
      "cell_type": "code",
      "metadata": {
        "id": "2LFD5yBO1btq",
        "colab_type": "code",
        "outputId": "69cbae86-c381-4735-ea5e-c36c1f23f4ea",
        "colab": {
          "base_uri": "https://localhost:8080/",
          "height": 540
        }
      },
      "source": [
        "analogy('king', 'man', 'queen',  word_to_id, id_to_word, word_vecs)\n",
        "analogy('take', 'took', 'go',  word_to_id, id_to_word, word_vecs)\n",
        "analogy('car', 'cars', 'child',  word_to_id, id_to_word, word_vecs)\n",
        "analogy('good', 'better', 'bad',  word_to_id, id_to_word, word_vecs)"
      ],
      "execution_count": 0,
      "outputs": [
        {
          "output_type": "stream",
          "text": [
            "\n",
            "[analogy] king:man = queen:?\n",
            " yard: 6.272502899169922\n",
            " minute: 6.164089202880859\n",
            " deliberations: 6.139381408691406\n",
            " dark: 5.99154806137085\n",
            " ducks: 5.938501358032227\n",
            "\n",
            "[analogy] take:took = go:?\n",
            " went: 5.663961887359619\n",
            " came: 5.450709342956543\n",
            " walked: 5.122747421264648\n",
            " ran: 5.119802474975586\n",
            " started: 4.906400680541992\n",
            "\n",
            "[analogy] car:cars = child:?\n",
            " children: 7.134904861450195\n",
            " parents: 6.776798248291016\n",
            " adults: 6.491278648376465\n",
            " patients: 6.327136039733887\n",
            " symptoms: 6.236928462982178\n",
            "\n",
            "[analogy] good:better = bad:?\n",
            " less: 4.6722283363342285\n",
            " greater: 4.582182884216309\n",
            " more: 4.517031669616699\n",
            " rather: 4.161499977111816\n",
            " worse: 4.156607627868652\n"
          ],
          "name": "stdout"
        }
      ]
    }
  ]
}