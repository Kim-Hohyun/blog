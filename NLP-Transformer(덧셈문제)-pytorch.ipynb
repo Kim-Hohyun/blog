{
 "cells": [
  {
   "cell_type": "markdown",
   "metadata": {},
   "source": [
    "https://tutorials.pytorch.kr/beginner/transformer_tutorial.html"
   ]
  },
  {
   "cell_type": "code",
   "execution_count": 2,
   "metadata": {},
   "outputs": [],
   "source": [
    "from tensorflow.keras.preprocessing.text import Tokenizer\n",
    "from tensorflow.keras.preprocessing.sequence import pad_sequences\n",
    "\n",
    "import torch\n",
    "from torch import nn\n",
    "from torch import optim\n",
    "from torch.utils.data import TensorDataset, DataLoader\n",
    "import math\n",
    "import numpy as np"
   ]
  },
  {
   "cell_type": "code",
   "execution_count": 34,
   "metadata": {},
   "outputs": [],
   "source": [
    "def get_data(file_path):\n",
    "    questions, answers = [], []\n",
    "    with open(file_path, 'r') as f:\n",
    "        for line in f:\n",
    "            idx = line.find('_')\n",
    "            questions.append(line[:idx].strip())\n",
    "            answers.append(line[idx:-1].strip())\n",
    "    return questions, answers\n",
    "\n",
    "file_path = './addition.txt'\n",
    "src_data, tgt_data = get_data(file_path)\n",
    "\n",
    "\n",
    "class TokenizerPlus(Tokenizer):\n",
    "        \n",
    "    def to_tensor(self, texts, **kwargs):\n",
    "        sequences = self.texts_to_sequences(texts)\n",
    "        padded = pad_sequences(sequences, **kwargs)\n",
    "        return torch.tensor(padded, dtype=torch.int64)\n",
    "    \n",
    "    def to_string(self, tensor):\n",
    "        texts = self.sequences_to_texts(tensor.data.numpy())\n",
    "        return [t[::2] for t in texts]\n",
    "    \n",
    "    \n",
    "# 각 문자를 토큰으로 나눠주고 패딩 처리를 합니다.\n",
    "tokenizer = TokenizerPlus(char_level=True, filters='')\n",
    "tokenizer.fit_on_texts(src_data)\n",
    "tokenizer.fit_on_texts(tgt_data)\n",
    "\n",
    "src = tokenizer.to_tensor(src_data)\n",
    "tgt = tokenizer.to_tensor(tgt_data, padding='post')"
   ]
  },
  {
   "cell_type": "code",
   "execution_count": 75,
   "metadata": {},
   "outputs": [],
   "source": [
    "class PositionalEncoding(nn.Module):\n",
    "\n",
    "    def __init__(self, d_model, dropout=0.1, max_len=5000):\n",
    "        super(PositionalEncoding, self).__init__()\n",
    "        self.dropout = nn.Dropout(p=dropout)\n",
    "        \n",
    "        # Compute the positional encodings once in log space.\n",
    "        pe = torch.zeros(max_len, d_model)\n",
    "        position = torch.arange(0, max_len).unsqueeze(1)\n",
    "        div_term = torch.exp(torch.arange(0, d_model, 2) *\n",
    "                             -(math.log(10000.0) / d_model))\n",
    "        pe[:, 0::2] = torch.sin(position * div_term)\n",
    "        pe[:, 1::2] = torch.cos(position * div_term)\n",
    "        pe = pe.unsqueeze(0)\n",
    "        self.register_buffer('pe', pe)\n",
    "        \n",
    "    def forward(self, x):\n",
    "        x = x + self.pe[:, :x.size(1)]\n",
    "        return self.dropout(x)\n",
    "    \n",
    "class TransformerModel(nn.Module):\n",
    "    def __init__(self, vocab_size, d_model, nhead, nhid, nlayers):\n",
    "        super(TransformerModel, self).__init__()\n",
    "        self.vocab_size = vocab_size\n",
    "        self.d_model = d_model\n",
    "        self.nhead = nhead\n",
    "        self.nhid = nhid\n",
    "        self.nlayers = nlayers\n",
    "        \n",
    "        self.emb = nn.Embedding(vocab_size, d_model)\n",
    "        self.pe = PositionalEncoding(d_model)\n",
    "        self.transformer = nn.Transformer(d_model, nhead,\n",
    "                                          num_encoder_layers=nlayers,\n",
    "                                          num_decoder_layers=nlayers,\n",
    "                                          dim_feedforward=nhid,\n",
    "                                         )\n",
    "        self.lin = nn.Linear(d_model, vocab_size)\n",
    "                \n",
    "    def forward(self, src, tgt, pad_id=0):\n",
    "        mem, mk = self.encode(src, pad_id)\n",
    "        return self.decode(tgt, mem, mk, pad_id)\n",
    "    \n",
    "    def encode(self, src, pad_id=0):\n",
    "        x = self.emb(src) / math.sqrt(self.d_model)\n",
    "        x = self.pe(x)\n",
    "        mask = (src == pad_id)\n",
    "        memory = self.transformer.encoder(x.transpose(0, 1), src_key_padding_mask=mask)\n",
    "        return memory, mask\n",
    "    \n",
    "    def decode(self, tgt, memory, memory_mask, pad_id=0):\n",
    "        x = self.emb(tgt) / math.sqrt(self.d_model)\n",
    "        x = self.pe(x)\n",
    "        \n",
    "        tgt_mask = self.transformer.generate_square_subsequent_mask(x.size(1))\n",
    "        out = self.transformer.decoder(x.transpose(0, 1), memory, \n",
    "                                       tgt_mask=tgt_mask,\n",
    "                                       tgt_key_padding_mask=(tgt == pad_id),\n",
    "                                       memory_key_padding_mask=memory_mask\n",
    "                                       )\n",
    "    \n",
    "        return self.lin(out.transpose(0, 1))\n",
    "\n",
    "    def greedy_decoding(self, src, start_token):\n",
    "        N = src.size(0)\n",
    "        mem, mk = self.encode(src)\n",
    "        preds = tokenizer.to_tensor([start_token]*N)\n",
    "\n",
    "        for _ in range(4):\n",
    "            y_pred = self.decode(preds, mem, mk)\n",
    "            t_pred = torch.argmax(y_pred[:,-1,:], axis=-1, keepdims=True)\n",
    "            preds = torch.cat([preds, t_pred], axis=1)            \n",
    "\n",
    "        return tokenizer.to_string(preds[:, 1:])"
   ]
  },
  {
   "cell_type": "code",
   "execution_count": 73,
   "metadata": {},
   "outputs": [
    {
     "name": "stdout",
     "output_type": "stream",
     "text": [
      "EPOCH: 1 :: Loss: 2.336 ACC: 0.0012\n",
      "EPOCH: 2 :: Loss: 1.839 ACC: 0.00224\n",
      "EPOCH: 3 :: Loss: 1.703 ACC: 0.00382\n",
      "EPOCH: 4 :: Loss: 1.588 ACC: 0.00516\n",
      "EPOCH: 5 :: Loss: 1.502 ACC: 0.00678\n",
      "EPOCH: 6 :: Loss: 1.435 ACC: 0.00948\n",
      "EPOCH: 7 :: Loss: 1.385 ACC: 0.0148\n",
      "EPOCH: 8 :: Loss: 1.303 ACC: 0.02698\n",
      "EPOCH: 9 :: Loss: 1.205 ACC: 0.03688\n",
      "EPOCH: 10 :: Loss: 1.12 ACC: 0.04938\n",
      "EPOCH: 11 :: Loss: 1.054 ACC: 0.07116\n",
      "EPOCH: 12 :: Loss: 0.996 ACC: 0.09108\n",
      "EPOCH: 13 :: Loss: 0.949 ACC: 0.11096\n",
      "EPOCH: 14 :: Loss: 0.899 ACC: 0.13154\n",
      "EPOCH: 15 :: Loss: 0.858 ACC: 0.15286\n",
      "EPOCH: 16 :: Loss: 0.817 ACC: 0.16826\n",
      "EPOCH: 17 :: Loss: 0.781 ACC: 0.18722\n",
      "EPOCH: 18 :: Loss: 0.753 ACC: 0.20336\n",
      "EPOCH: 19 :: Loss: 0.724 ACC: 0.222\n",
      "EPOCH: 20 :: Loss: 0.698 ACC: 0.23696\n"
     ]
    }
   ],
   "source": [
    "class Trainer:\n",
    "    def __init__(self, model, loss_fn, optimizer, pad_id=0, start_token='_'):\n",
    "        self.model = model\n",
    "        self.loss_fn = loss_fn\n",
    "        self.optimizer = optimizer\n",
    "        self.pad_id = pad_id\n",
    "        self.start_token = start_token\n",
    "        self.losses = []\n",
    "        self.current_epoch = 0\n",
    "        \n",
    "    def train(self, src, tgt, max_epoch=1, batch_size=128):\n",
    "        X1_train = src\n",
    "        X2_train = tgt[:, :-1]\n",
    "        y_train = tgt[:, 1:]\n",
    "        ds = TensorDataset(X1_train, X2_train, y_train)\n",
    "        loader = DataLoader(ds, batch_size=batch_size, shuffle=True)\n",
    "        \n",
    "        for epoch in range(1, max_epoch+1):\n",
    "            self.model.train()\n",
    "            running_loss = 0\n",
    "            self.current_epoch += 1\n",
    "            print(\"EPOCH: %s :: \" %self.current_epoch, end='')\n",
    "            for i, (x1, x2, yy) in enumerate(loader):\n",
    "                y_pred = self.model(x1, x2, self.pad_id)\n",
    "                loss = self.loss_fn(y_pred.view(-1, y_pred.size(-1)), yy.view(-1))\n",
    "                self.optimizer.zero_grad()\n",
    "                loss.backward()\n",
    "                self.optimizer.step()\n",
    "                running_loss += loss.item()\n",
    "            \n",
    "            running_loss = round(running_loss / (i+1), 3)\n",
    "            self.losses.append(running_loss)\n",
    "            acc = self.evaluate(src, y_train)\n",
    "            print(\"Loss: %s\" %(running_loss), \"ACC: %s\" %acc)\n",
    "        \n",
    "    def evaluate(self, src, y):\n",
    "        pred = np.array(self.model.greedy_decoding(src, start_token='_'))\n",
    "        y_text = np.array(tokenizer.to_string(y))\n",
    "        acc = (pred == y_text).sum() / y_text.size\n",
    "        return acc\n",
    "    \n",
    "model = TransformerModel(len(tokenizer.word_index)+1, \n",
    "                         d_model=64, nhead=4, \n",
    "                         nhid=256, nlayers=1)\n",
    "loss_fn = nn.CrossEntropyLoss()\n",
    "optimizer = optim.Adam(model.parameters())\n",
    "\n",
    "trainer = Trainer(model, loss_fn, optimizer)\n",
    "trainer.train(src, tgt, max_epoch=20)"
   ]
  },
  {
   "cell_type": "code",
   "execution_count": 203,
   "metadata": {},
   "outputs": [
    {
     "data": {
      "text/plain": [
       "['90', '22', '24']"
      ]
     },
     "execution_count": 203,
     "metadata": {},
     "output_type": "execute_result"
    }
   ],
   "source": [
    "test_str = tokenizer.texts_to_sequences(['45+45', '12+10', '11+13'])\n",
    "test = torch.tensor(pad_sequences(test_str, maxlen=7), dtype=torch.int64)\n",
    "trainer.predict(test)"
   ]
  },
  {
   "cell_type": "code",
   "execution_count": 77,
   "metadata": {},
   "outputs": [
    {
     "data": {
      "image/png": "[encoded data removed]",
      "text/plain": [
       "<Figure size 432x288 with 1 Axes>"
      ]
     },
     "metadata": {
      "needs_background": "light"
     },
     "output_type": "display_data"
    }
   ],
   "source": [
    "import matplotlib.pyplot as plt\n",
    "\n",
    "plt.plot(trainer.losses)\n",
    "None"
   ]
  },
  {
   "cell_type": "code",
   "execution_count": null,
   "metadata": {},
   "outputs": [],
   "source": []
  }
 ],
 "metadata": {
  "kernelspec": {
   "display_name": "Python 3",
   "language": "python",
   "name": "python3"
  },
  "language_info": {
   "codemirror_mode": {
    "name": "ipython",
    "version": 3
   },
   "file_extension": ".py",
   "mimetype": "text/x-python",
   "name": "python",
   "nbconvert_exporter": "python",
   "pygments_lexer": "ipython3",
   "version": "3.7.4"
  }
 },
 "nbformat": 4,
 "nbformat_minor": 4
}
