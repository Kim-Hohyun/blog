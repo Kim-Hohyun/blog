{
 "cells": [
  {
   "cell_type": "markdown",
   "metadata": {},
   "source": [
    "# What's Cooking\n",
    "\n",
    "kaggle의 What's Cooking이라고 하는 데이터를 이용해보겠습니다.\n",
    "\n",
    "What's Cooking은 식재료를 가지고 어떤 나라의 음식인지를 맞추는 경연입니다.\n",
    "\n",
    "- https://www.kaggle.com/c/whats-cooking\n",
    "\n",
    "(요리 x 식재료) 행렬을 이용해 요리 간의 유사도를 측정하고, 이를 통해 음식의 국적을 알아맞히는 실습을 해보겠습니다."
   ]
  },
  {
   "cell_type": "markdown",
   "metadata": {},
   "source": [
    "## 데이터 불러오기\n",
    "\n",
    "데이터는 캐글에서 받을 수 있습니다."
   ]
  },
  {
   "cell_type": "code",
   "execution_count": 1,
   "metadata": {},
   "outputs": [
    {
     "data": {
      "text/html": [
       "<div>\n",
       "<style scoped>\n",
       "    .dataframe tbody tr th:only-of-type {\n",
       "        vertical-align: middle;\n",
       "    }\n",
       "\n",
       "    .dataframe tbody tr th {\n",
       "        vertical-align: top;\n",
       "    }\n",
       "\n",
       "    .dataframe thead th {\n",
       "        text-align: right;\n",
       "    }\n",
       "</style>\n",
       "<table border=\"1\" class=\"dataframe\">\n",
       "  <thead>\n",
       "    <tr style=\"text-align: right;\">\n",
       "      <th></th>\n",
       "      <th>id</th>\n",
       "      <th>cuisine</th>\n",
       "      <th>ingredients</th>\n",
       "    </tr>\n",
       "  </thead>\n",
       "  <tbody>\n",
       "    <tr>\n",
       "      <th>0</th>\n",
       "      <td>10259</td>\n",
       "      <td>greek</td>\n",
       "      <td>[romaine lettuce, black olives, grape tomatoes...</td>\n",
       "    </tr>\n",
       "    <tr>\n",
       "      <th>1</th>\n",
       "      <td>25693</td>\n",
       "      <td>southern_us</td>\n",
       "      <td>[plain flour, ground pepper, salt, tomatoes, g...</td>\n",
       "    </tr>\n",
       "    <tr>\n",
       "      <th>2</th>\n",
       "      <td>20130</td>\n",
       "      <td>filipino</td>\n",
       "      <td>[eggs, pepper, salt, mayonaise, cooking oil, g...</td>\n",
       "    </tr>\n",
       "    <tr>\n",
       "      <th>3</th>\n",
       "      <td>22213</td>\n",
       "      <td>indian</td>\n",
       "      <td>[water, vegetable oil, wheat, salt]</td>\n",
       "    </tr>\n",
       "    <tr>\n",
       "      <th>4</th>\n",
       "      <td>13162</td>\n",
       "      <td>indian</td>\n",
       "      <td>[black pepper, shallots, cornflour, cayenne pe...</td>\n",
       "    </tr>\n",
       "  </tbody>\n",
       "</table>\n",
       "</div>"
      ],
      "text/plain": [
       "      id      cuisine                                        ingredients\n",
       "0  10259        greek  [romaine lettuce, black olives, grape tomatoes...\n",
       "1  25693  southern_us  [plain flour, ground pepper, salt, tomatoes, g...\n",
       "2  20130     filipino  [eggs, pepper, salt, mayonaise, cooking oil, g...\n",
       "3  22213       indian                [water, vegetable oil, wheat, salt]\n",
       "4  13162       indian  [black pepper, shallots, cornflour, cayenne pe..."
      ]
     },
     "execution_count": 1,
     "metadata": {},
     "output_type": "execute_result"
    }
   ],
   "source": [
    "import pandas as pd\n",
    "import numpy as np\n",
    "import matplotlib.pyplot as plt\n",
    "\n",
    "cooking = pd.read_json(\"./data/cooking.json\")\n",
    "cooking.head()"
   ]
  },
  {
   "cell_type": "markdown",
   "metadata": {},
   "source": [
    "## 데이터 탐색\n",
    "\n",
    "데이터는 id, cuisine, ingredients로 이루어져 있습니다. 여기서 id는 데이터를 관리할 목적으로 각 데이터마다 고유한 값을 하나씩 부여한 것입니다."
   ]
  },
  {
   "cell_type": "code",
   "execution_count": 2,
   "metadata": {},
   "outputs": [
    {
     "data": {
      "text/plain": [
       "id             0\n",
       "cuisine        0\n",
       "ingredients    0\n",
       "dtype: int64"
      ]
     },
     "execution_count": 2,
     "metadata": {},
     "output_type": "execute_result"
    }
   ],
   "source": [
    "# 누락값이 없습니다.\n",
    "cooking.isnull().sum()"
   ]
  },
  {
   "cell_type": "code",
   "execution_count": 3,
   "metadata": {},
   "outputs": [
    {
     "data": {
      "text/plain": [
       "italian         7838\n",
       "mexican         6438\n",
       "southern_us     4320\n",
       "indian          3003\n",
       "chinese         2673\n",
       "french          2646\n",
       "cajun_creole    1546\n",
       "thai            1539\n",
       "japanese        1423\n",
       "greek           1175\n",
       "spanish          989\n",
       "korean           830\n",
       "vietnamese       825\n",
       "moroccan         821\n",
       "british          804\n",
       "filipino         755\n",
       "irish            667\n",
       "jamaican         526\n",
       "russian          489\n",
       "brazilian        467\n",
       "Name: cuisine, dtype: int64"
      ]
     },
     "execution_count": 3,
     "metadata": {},
     "output_type": "execute_result"
    }
   ],
   "source": [
    "# 국가별 데이터 개수입니다.\n",
    "cooking['cuisine'].value_counts()"
   ]
  },
  {
   "cell_type": "markdown",
   "metadata": {},
   "source": [
    "이번에는 각 음식 재료가 몇 가지 요리에 사용되었는지를 보겠습니다. 그러기 위해 리스트 내포 구문을 이용했습니다.\n",
    "\n",
    "- 리스트 내포: https://wikidocs.net/22#_1"
   ]
  },
  {
   "cell_type": "code",
   "execution_count": 4,
   "metadata": {},
   "outputs": [
    {
     "data": {
      "text/plain": [
       "salt                                      18049\n",
       "onions                                     7972\n",
       "olive oil                                  7972\n",
       "water                                      7457\n",
       "garlic                                     7380\n",
       "                                          ...  \n",
       "cherry vanilla ice cream                      1\n",
       "Nielsen-Massey Vanilla Extract                1\n",
       "skinless boneless turkey breast halves        1\n",
       "Martha White Cornbread Mix                    1\n",
       "Mission Yellow Corn Tortillas                 1\n",
       "Length: 6714, dtype: int64"
      ]
     },
     "execution_count": 4,
     "metadata": {},
     "output_type": "execute_result"
    }
   ],
   "source": [
    "ingredients = pd.Series([ingredient for cuisine in cooking['ingredients'] for ingredient in cuisine])\n",
    "ingredients_counts = ingredients.value_counts()\n",
    "ingredients_counts"
   ]
  },
  {
   "cell_type": "markdown",
   "metadata": {},
   "source": [
    "많이 쓰이는 식재료와 그렇지 않은 식재료 간의 차이가 큽니다. salt가 사용된 음식이 45%에 달합니다."
   ]
  },
  {
   "cell_type": "code",
   "execution_count": 5,
   "metadata": {},
   "outputs": [
    {
     "data": {
      "text/plain": [
       "salt                                      45.378891\n",
       "onions                                    20.043244\n",
       "olive oil                                 20.043244\n",
       "water                                     18.748429\n",
       "garlic                                    18.554835\n",
       "                                            ...    \n",
       "cherry vanilla ice cream                   0.002514\n",
       "Nielsen-Massey Vanilla Extract             0.002514\n",
       "skinless boneless turkey breast halves     0.002514\n",
       "Martha White Cornbread Mix                 0.002514\n",
       "Mission Yellow Corn Tortillas              0.002514\n",
       "Length: 6714, dtype: float64"
      ]
     },
     "execution_count": 5,
     "metadata": {},
     "output_type": "execute_result"
    }
   ],
   "source": [
    "ingredients_counts / len(cooking) * 100"
   ]
  },
  {
   "cell_type": "markdown",
   "metadata": {},
   "source": [
    "식재료별 사용 횟수를 그래프로 그렸습니다. 왼쪽 그림을 보면, salt의 압도적인 비중 때문에 그래프가 거의 직각을 이루고 있습니다. 하지만 자주 사용되는 재료 200개를 제외하고 보더라도, 여러 요리에 많이 쓰인 재료와 그렇지 않은 재료 간의 차이는 큽니다."
   ]
  },
  {
   "cell_type": "code",
   "execution_count": 6,
   "metadata": {},
   "outputs": [
    {
     "data": {
      "image/png": "[encoded data removed]",
      "text/plain": [
       "<Figure size 864x360 with 2 Axes>"
      ]
     },
     "metadata": {
      "needs_background": "light"
     },
     "output_type": "display_data"
    }
   ],
   "source": [
    "plt.figure(figsize=(12, 5))\n",
    "\n",
    "plt.subplot(1, 2, 1)\n",
    "ingredients_counts.plot()\n",
    "plt.xticks(rotation=20)\n",
    "\n",
    "plt.subplot(1, 2, 2)\n",
    "ingredients_counts.iloc[200:].plot()\n",
    "plt.xticks(rotation=20)\n",
    "\n",
    "plt.show()"
   ]
  },
  {
   "cell_type": "markdown",
   "metadata": {},
   "source": [
    "## 테스트 세트 나눠주기\n",
    "\n",
    "1주차에서 사용한 `sklearn.model_selection.train_test_split` 함수를 다시 이용해 테스트 세트를 떼어내겠습니다. 이때 단순히 랜덤하게 테스트 세트를 떼어내지 않고, `cuisine`의 카테고리 별 비율이 일정하게 되도록 떼어내겠습니다. 이를 계층적 샘플링(stratified sampling)이라 합니다. 이는 테스트 세트가 전체 데이터 셋에 있는 여러 `cuisine` 카테고리를 잘 대표하도록 만들기 위해서입니다."
   ]
  },
  {
   "cell_type": "code",
   "execution_count": 7,
   "metadata": {},
   "outputs": [],
   "source": [
    "from sklearn.model_selection import train_test_split\n",
    "X_trainset, X_testset, y_trainset, y_testset = train_test_split(cooking['ingredients'], cooking['cuisine'], \n",
    "                                       test_size=0.2, \n",
    "                                       stratify=cooking['cuisine'], # 카테고리별 비율이 일정하게 만든다.\n",
    "                                       random_state=1)\n"
   ]
  },
  {
   "cell_type": "code",
   "execution_count": 8,
   "metadata": {},
   "outputs": [
    {
     "data": {
      "text/plain": [
       "italian         19.706341\n",
       "mexican         16.186453\n",
       "southern_us     10.861367\n",
       "indian           7.550158\n",
       "chinese          6.720471\n",
       "french           6.652587\n",
       "cajun_creole     3.886961\n",
       "thai             3.869362\n",
       "japanese         3.577714\n",
       "greek            2.954191\n",
       "spanish          2.486549\n",
       "korean           2.086790\n",
       "vietnamese       2.074219\n",
       "moroccan         2.064163\n",
       "british          2.021421\n",
       "filipino         1.898225\n",
       "irish            1.676975\n",
       "jamaican         1.322472\n",
       "russian          1.229446\n",
       "brazilian        1.174134\n",
       "Name: cuisine, dtype: float64"
      ]
     },
     "execution_count": 8,
     "metadata": {},
     "output_type": "execute_result"
    }
   ],
   "source": [
    "# 데이터 전체에서 각 국가가 차지하는 비율\n",
    "cooking['cuisine'].value_counts() / len(cooking['cuisine']) * 100"
   ]
  },
  {
   "cell_type": "code",
   "execution_count": 9,
   "metadata": {},
   "outputs": [
    {
     "data": {
      "text/plain": [
       "italian         19.705208\n",
       "mexican         16.185298\n",
       "southern_us     10.861435\n",
       "indian           7.548949\n",
       "chinese          6.719256\n",
       "french           6.653257\n",
       "cajun_creole     3.887614\n",
       "thai             3.868758\n",
       "japanese         3.579622\n",
       "greek            2.954210\n",
       "spanish          2.485936\n",
       "korean           2.086803\n",
       "vietnamese       2.074232\n",
       "moroccan         2.064804\n",
       "british          2.020805\n",
       "filipino         1.898237\n",
       "irish            1.678243\n",
       "jamaican         1.323109\n",
       "russian          1.228826\n",
       "brazilian        1.175398\n",
       "Name: cuisine, dtype: float64"
      ]
     },
     "execution_count": 9,
     "metadata": {},
     "output_type": "execute_result"
    }
   ],
   "source": [
    "# 훈련 세트에서 각 국가가 차지하는 비율\n",
    "# 전체 데이터 셋과 비슷한 비율로 훈련 세트와 테스트 세트가 나뉘었다.\n",
    "y_trainset.value_counts() / len(y_trainset) * 100"
   ]
  },
  {
   "cell_type": "code",
   "execution_count": 10,
   "metadata": {},
   "outputs": [
    {
     "data": {
      "text/plain": [
       "20.000502841051944"
      ]
     },
     "execution_count": 10,
     "metadata": {},
     "output_type": "execute_result"
    }
   ],
   "source": [
    "# 테스트 세트는 전체의 약 20%입니다.\n",
    "len(X_testset) / (len(X_trainset) + len(X_testset)) * 100"
   ]
  },
  {
   "cell_type": "markdown",
   "metadata": {},
   "source": [
    "# 요리 벡터화 하기"
   ]
  },
  {
   "cell_type": "code",
   "execution_count": 25,
   "metadata": {},
   "outputs": [],
   "source": [
    "from sklearn.feature_extraction.text import CountVectorizer\n",
    "\n",
    "# 문서-단어 행렬을 만든 것과 같은 방식으로 요리를 벡터화합니다.\n",
    "vectorizer = CountVectorizer(tokenizer=lambda x: x, lowercase=False)\n",
    "X_train = vectorizer.fit_transform(X_trainset).toarray()\n",
    "X_test = vectorizer.transform(X_testset).toarray()"
   ]
  },
  {
   "cell_type": "code",
   "execution_count": 26,
   "metadata": {},
   "outputs": [],
   "source": [
    "# 국가마다 번호를 붙여주겠습니다.\n",
    "country  = np.unique(y_trainset)\n",
    "country_to_id = {c:i for i, c in enumerate(country)}\n",
    "\n",
    "y_train = np.array([country_to_id[x] for x in y_trainset])\n",
    "y_test = np.array([country_to_id[x] for x in y_testset])"
   ]
  },
  {
   "cell_type": "code",
   "execution_count": 27,
   "metadata": {},
   "outputs": [],
   "source": [
    "from sklearn.metrics.pairwise import cosine_distances\n",
    "\n",
    "class KNNClassifier():\n",
    "    \n",
    "    def fit(self, X, y):\n",
    "        self.X_train = X\n",
    "        self.y_train = y\n",
    "        \n",
    "    def predict(self, X, k=1, dists=None):\n",
    "        if dists is None:\n",
    "            dists = self._compute_distance(X)\n",
    "        return self._predict_labels(dists, k)\n",
    "        \n",
    "    def _compute_distance(self, X):\n",
    "        return cosine_distances(X, self.X_train)\n",
    "    \n",
    "    def _predict_labels(self, dists, k=1):\n",
    "        num_test = dists.shape[0]\n",
    "        y_pred = np.zeros(num_test)\n",
    "        for i in range(num_test):\n",
    "            closest_y = self.y_train[np.argsort(dists[i])[:k]]\n",
    "            y_pred[i] = np.bincount(closest_y).argmax()\n",
    "        return y_pred"
   ]
  },
  {
   "cell_type": "code",
   "execution_count": 28,
   "metadata": {},
   "outputs": [],
   "source": [
    "classifier = KNNClassifier()\n",
    "classifier.fit(X_train, y_train)\n",
    "dists = cosine_distances(X_test, X_train)\n",
    "\n",
    "# 시간이 오래 걸립니다.\n",
    "acc = []\n",
    "for k in [1, 5, 9, 13, 17]:\n",
    "    y_pred = classifier.predict(X_test, k, dists)\n",
    "    acc.append(np.sum(y_test == y_pred) / len(y_test))"
   ]
  },
  {
   "cell_type": "code",
   "execution_count": 30,
   "metadata": {},
   "outputs": [
    {
     "data": {
      "image/png": "[encoded data removed]",
      "text/plain": [
       "<Figure size 432x288 with 1 Axes>"
      ]
     },
     "metadata": {
      "needs_background": "light"
     },
     "output_type": "display_data"
    }
   ],
   "source": [
    "import matplotlib.pyplot as plt\n",
    "\n",
    "plt.plot([1, 5, 9, 13, 17], acc)\n",
    "plt.show()"
   ]
  },
  {
   "cell_type": "markdown",
   "metadata": {},
   "source": [
    "## TF-IDF\n",
    "\n",
    "데이터 탐색 단계에서 봤듯이, 특정 식재료가 높은 비중을 차지하고 있습니다. 이건 모델 성능에 문제가 될 소지가 있습니다. 예를 들어 소금은 전체 요리의 약 45%를 차지하고 있습니다. 이런 경우 \"소금이 요리에 포함되어 있다\"는 특성은 어느 국적의 요리인지를 구분하는 데 그다지 도움이 되는 특성이 아니게 됩니다.\n",
    "\n",
    "그러므로 여러 요리에 걸쳐 자주 쓰이는 식재료는 가중치를 적게 주는 것이 바람직합니다. 지금은 소금이 포함되면 해당 특성이 +1이 됐지만, 이를 +0.8이나 +0.5 쯤으로 조정해주는 것입니다. 이렇게 해주면 소금이 포함된 음식끼리 거리가 가까워지기는 하지만 그 정도가 덜해집니다.\n",
    "\n",
    "이 아이디어를 구현한 게 TF-IDF입니다. TF-IDF는 \"Term Frequency - Inverse Document Frequency\"의 약자입니다. Term Frequency는 우리가 지금까지 계산했던 문서-단어 행렬을 말합니다. 문서에 단어의 빈도수만큼 +1을 한 행렬입니다. 반면 Document Frequency는 전체 문서에 몇 번 등장했는가를 말합니다. Document Frequency에 역수를 취해주고(0으로 나눠지는 일이 없도록 분모에 +1을 합니다), 값이 너무 튀지 않도록 log를 취해준 것이 IDF입니다. TF와 IDF를 곱한 것이 TF-IDF입니다.\n",
    "\n",
    "<br>\n",
    "<center>$idf(t) = log\\frac{n}{1+df(t)}$</center>\n",
    "    \n",
    "- $n$ : 전체 문서의 개수\n",
    "- $t$ : 특정 단어\n",
    "- $df$: 문서 빈도\n",
    "\n"
   ]
  },
  {
   "cell_type": "code",
   "execution_count": 55,
   "metadata": {},
   "outputs": [],
   "source": [
    "from sklearn.feature_extraction.text import TfidfVectorizer\n",
    "\n",
    "vectorizer = TfidfVectorizer(tokenizer=lambda x: x, lowercase=False)\n",
    "X_train = vectorizer.fit_transform(X_trainset).toarray()\n",
    "X_test = vectorizer.transform(X_testset).toarray()"
   ]
  },
  {
   "cell_type": "code",
   "execution_count": 56,
   "metadata": {},
   "outputs": [],
   "source": [
    "classifier = KNNClassifier()\n",
    "classifier.fit(X_train, y_train)\n",
    "dists = cosine_distances(X_test, X_train)\n",
    "\n",
    "acc = []\n",
    "for k in [1, 5, 9, 13, 17]:\n",
    "    y_pred = classifier.predict(X_test, k, dists)\n",
    "    acc.append(np.sum(y_test == y_pred) / len(y_test))"
   ]
  },
  {
   "cell_type": "code",
   "execution_count": 57,
   "metadata": {},
   "outputs": [
    {
     "data": {
      "image/png": "[encoded data removed]",
      "text/plain": [
       "<Figure size 432x288 with 1 Axes>"
      ]
     },
     "metadata": {
      "needs_background": "light"
     },
     "output_type": "display_data"
    }
   ],
   "source": [
    "import matplotlib.pyplot as plt\n",
    "\n",
    "# 성능이 향상된 것을 볼 수 있습니다.\n",
    "plt.plot([1, 5, 9, 13, 17], acc)\n",
    "plt.show()"
   ]
  },
  {
   "cell_type": "markdown",
   "metadata": {},
   "source": [
    "# 오류 분석\n",
    "\n",
    "혼동 행렬을 만들어보겠습니다. 혼동 행렬을 $M$이라고 할 때, $M[i, j]$ 값은 국적 id가 $i$인 요리에 대해 모델이 $j$라고 예측한 개수를 의미합니다."
   ]
  },
  {
   "cell_type": "code",
   "execution_count": 35,
   "metadata": {},
   "outputs": [
    {
     "data": {
      "text/plain": [
       "array([51,  0,  2,  1,  3,  4,  1,  3,  0,  4,  1,  0,  0, 14,  0,  0,  8,\n",
       "        0,  1,  0], dtype=int64)"
      ]
     },
     "execution_count": 35,
     "metadata": {},
     "output_type": "execute_result"
    }
   ],
   "source": [
    "from sklearn.metrics import confusion_matrix\n",
    "\n",
    "confusion_mat = confusion_matrix(y_test, y_pred)\n",
    "\n",
    "# 예컨대 1번 국가에 대해서 1번이라고 예측한 횟수가 53입니다. \n",
    "# 예컨대 1번 국가에 대해서 3번이라고 (잘못) 예측한 횟수는 2입니다. \n",
    "confusion_mat[0]"
   ]
  },
  {
   "cell_type": "code",
   "execution_count": 36,
   "metadata": {},
   "outputs": [
    {
     "data": {
      "image/png": "[encoded data removed]",
      "text/plain": [
       "<Figure size 648x648 with 2 Axes>"
      ]
     },
     "metadata": {
      "needs_background": "light"
     },
     "output_type": "display_data"
    }
   ],
   "source": [
    "# 클래스 개수로 나누어주겠습니다. 그러면 클래스별 에러의 비율을 비교할 수 있습니다.\n",
    "norm_confusion_mat = confusion_mat / confusion_mat.sum(axis=1, keepdims=True)\n",
    "country_list = sorted(country_to_id, key=lambda x: country_to_id[x])\n",
    "\n",
    "plt.figure(figsize=(9,9))\n",
    "plt.matshow(norm_confusion_mat, 0)\n",
    "\n",
    "plt.yticks(range(len(country_list)), country_list)\n",
    "plt.xticks(range(len(country_list)), country_list, rotation=90)\n",
    "plt.colorbar()\n",
    "plt.show()"
   ]
  },
  {
   "cell_type": "markdown",
   "metadata": {},
   "source": [
    "색이 밝을수록 해당 클래스를 잘 맞혔다는 의미입니다. 대각선이 밝은 것으로 보아, 올바르게 분류한 비율이 높다는 것을 알 수 있습니다. 이번에는 대각선을 0으로 만들어, 어디서 오류를 낸 것인지에 집중해보겠습니다."
   ]
  },
  {
   "cell_type": "code",
   "execution_count": 37,
   "metadata": {},
   "outputs": [
    {
     "data": {
      "image/png": "[encoded data removed]",
      "text/plain": [
       "<Figure size 648x648 with 2 Axes>"
      ]
     },
     "metadata": {
      "needs_background": "light"
     },
     "output_type": "display_data"
    }
   ],
   "source": [
    "np.fill_diagonal(norm_confusion_mat, 0)\n",
    "\n",
    "plt.figure(figsize=(9,9))\n",
    "plt.matshow(norm_confusion_mat, 0)\n",
    "\n",
    "plt.yticks(range(len(country_list)), country_list)\n",
    "plt.xticks(range(len(country_list)), country_list, rotation=90)\n",
    "plt.colorbar()\n",
    "plt.show()"
   ]
  },
  {
   "cell_type": "markdown",
   "metadata": {},
   "source": [
    "스페인 음식을 잘못 분류한 오류 중에서 이탈리아 음식으로 분류한 경우가 30%나 됩니다. 한국 음식의 경우 중국이나 일본 음식과 혼동하는 경우가 많습니다."
   ]
  },
  {
   "cell_type": "markdown",
   "metadata": {},
   "source": [
    "# 번외) 식재료 간 유사도 구하기\n",
    "\n",
    "몇 가지 식재료에 대해 그것과 가장 유사한 식재료가 무엇인지 알아보겠습니다."
   ]
  },
  {
   "cell_type": "code",
   "execution_count": 38,
   "metadata": {},
   "outputs": [],
   "source": [
    "from sklearn.metrics.pairwise import cosine_similarity\n",
    "\n",
    "similarity_matrix = cosine_similarity(X_train.T)"
   ]
  },
  {
   "cell_type": "code",
   "execution_count": 40,
   "metadata": {},
   "outputs": [
    {
     "name": "stdout",
     "output_type": "stream",
     "text": [
      "\n",
      "[query] garlic\n",
      "onions\n",
      "salt\n",
      "olive oil\n",
      "soy sauce\n",
      "ginger\n",
      "\n",
      "[query] kimchi\n",
      "Gochujang base\n",
      "kimchi juice\n",
      "silken tofu\n",
      "pork belly\n",
      "spam\n",
      "\n",
      "[query] grated parmesan cheese\n",
      "olive oil\n",
      "shredded mozzarella cheese\n",
      "ricotta cheese\n",
      "lasagna noodles\n",
      "butter\n",
      "\n",
      "[query] baking powder\n",
      "all-purpose flour\n",
      "baking soda\n",
      "buttermilk\n",
      "large eggs\n",
      "salt\n"
     ]
    }
   ],
   "source": [
    "def most_similar(query, word_to_id, id_to_word, similarity_matrix, top=5):\n",
    "    print('\\n[query] ' + query)\n",
    "    query_id = word_to_id[query]  \n",
    "    similarity = similarity_matrix[query_id]\n",
    "    \n",
    "    count = 0\n",
    "    for i in (-similarity).argsort():\n",
    "        if id_to_word[i] == query:\n",
    "            continue\n",
    "        print(id_to_word[i])\n",
    "        \n",
    "        count += 1\n",
    "        if count >= top:\n",
    "            return\n",
    "        \n",
    "id_to_word = {v: k for k, v in vectorizer.vocabulary_.items()}\n",
    "most_similar('garlic', vectorizer.vocabulary_, id_to_word, similarity_matrix)\n",
    "most_similar('kimchi', vectorizer.vocabulary_, id_to_word, similarity_matrix)\n",
    "most_similar('grated parmesan cheese', vectorizer.vocabulary_, id_to_word, similarity_matrix)\n",
    "most_similar('baking powder', vectorizer.vocabulary_, id_to_word, similarity_matrix)\n"
   ]
  }
 ],
 "metadata": {
  "kernelspec": {
   "display_name": "Python 3",
   "language": "python",
   "name": "python3"
  },
  "language_info": {
   "codemirror_mode": {
    "name": "ipython",
    "version": 3
   },
   "file_extension": ".py",
   "mimetype": "text/x-python",
   "name": "python",
   "nbconvert_exporter": "python",
   "pygments_lexer": "ipython3",
   "version": "3.7.4"
  }
 },
 "nbformat": 4,
 "nbformat_minor": 4
}
