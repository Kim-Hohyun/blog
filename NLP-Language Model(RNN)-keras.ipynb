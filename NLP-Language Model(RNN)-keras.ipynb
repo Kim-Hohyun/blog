{
 "cells": [
  {
   "cell_type": "markdown",
   "metadata": {
    "colab_type": "text",
    "id": "E4oTHszxzFqf"
   },
   "source": [
    "## PTB 데이터 다운로드"
   ]
  },
  {
   "cell_type": "code",
   "execution_count": null,
   "metadata": {
    "colab": {},
    "colab_type": "code",
    "id": "6JsUc4PIJfPQ"
   },
   "outputs": [],
   "source": [
    "import os\n",
    "\n",
    "if 'ptb.train.txt' in os.listdir():\n",
    "    with open(\"ptb.train.txt\", 'r') as f:\n",
    "        text = f.read()        \n",
    "else:\n",
    "    from urllib.request import urlopen\n",
    "    url = 'https://raw.githubusercontent.com/tomsercu/lstm/master/data/ptb.train.txt'\n",
    "    html = urlopen(url)\n",
    "    text = html.read().decode()\n",
    "\n",
    "    with open(\"ptb.train.txt\", 'w') as f:\n",
    "        f.write(text)\n",
    "text = text.replace('\\n', '<eos>').strip()    "
   ]
  },
  {
   "cell_type": "markdown",
   "metadata": {
    "colab_type": "text",
    "id": "Ql_-5EHYzFql"
   },
   "source": [
    "## 토크나이징"
   ]
  },
  {
   "cell_type": "code",
   "execution_count": null,
   "metadata": {
    "colab": {},
    "colab_type": "code",
    "id": "Lt4oA-Mdxm5T"
   },
   "outputs": [],
   "source": [
    "from tensorflow import keras\n",
    "import tensorflow as tf\n",
    "from tensorflow.keras.preprocessing.text import Tokenizer\n",
    "import numpy as np\n",
    "\n",
    "tokenizer = Tokenizer(char_level=True, filters='', lower=True)\n",
    "tokenizer.fit_on_texts([text])\n",
    "sequences = (np.array(tokenizer.texts_to_sequences([text])) - 1)[0]"
   ]
  },
  {
   "cell_type": "markdown",
   "metadata": {
    "colab_type": "text",
    "id": "TD6XfQgVzFqq"
   },
   "source": [
    "## 데이터셋 만들기"
   ]
  },
  {
   "cell_type": "code",
   "execution_count": null,
   "metadata": {
    "colab": {},
    "colab_type": "code",
    "id": "BIgbcE0DzFqq"
   },
   "outputs": [],
   "source": [
    "def generate_train_data(sequences, step):\n",
    "    X = []\n",
    "    step += 1\n",
    "    for i in range(0, len(sequences)-step, step):\n",
    "        X.append(sequences[i: i + step])\n",
    "    return np.array(X)\n",
    "\n",
    "train_data = generate_train_data(sequences, 20)\n",
    "X, y = train_data[:,:-1], train_data[:,1:]"
   ]
  },
  {
   "cell_type": "markdown",
   "metadata": {
    "colab_type": "text",
    "id": "YBWomlrZzFqt"
   },
   "source": [
    "## 모델 훈련"
   ]
  },
  {
   "cell_type": "code",
   "execution_count": null,
   "metadata": {
    "colab": {
     "base_uri": "https://localhost:8080/",
     "height": 279
    },
    "colab_type": "code",
    "executionInfo": {
     "elapsed": 1154,
     "status": "ok",
     "timestamp": 1592931488752,
     "user": {
      "displayName": "Hohyun Kim",
      "photoUrl": "",
      "userId": "08560091150428894976"
     },
     "user_tz": -540
    },
    "id": "hZ5wHZ05zFqt",
    "outputId": "e3de65d0-5754-4f8e-eb36-8363205e63e8"
   },
   "outputs": [
    {
     "name": "stdout",
     "output_type": "stream",
     "text": [
      "Model: \"sequential\"\n",
      "_________________________________________________________________\n",
      "Layer (type)                 Output Shape              Param #   \n",
      "=================================================================\n",
      "gru (GRU)                    (None, None, 256)         235008    \n",
      "_________________________________________________________________\n",
      "gru_1 (GRU)                  (None, None, 256)         394752    \n",
      "_________________________________________________________________\n",
      "dense (Dense)                (None, None, 48)          12336     \n",
      "=================================================================\n",
      "Total params: 642,096\n",
      "Trainable params: 642,096\n",
      "Non-trainable params: 0\n",
      "_________________________________________________________________\n"
     ]
    }
   ],
   "source": [
    "total_words = len(tokenizer.word_index)\n",
    "model = keras.models.Sequential([\n",
    "     keras.layers.Embedding(total_words, 100),\n",
    "     keras.layers.GRU(256, return_sequences=True),\n",
    "     keras.layers.GRU(256, return_sequences=True),\n",
    "     keras.layers.Dense(total_words, activation = 'softmax')\n",
    "])\n",
    "model.summary()"
   ]
  },
  {
   "cell_type": "code",
   "execution_count": null,
   "metadata": {
    "colab": {},
    "colab_type": "code",
    "id": "LkysMJwdxm-n"
   },
   "outputs": [],
   "source": [
    "model.compile(loss='sparse_categorical_crossentropy', optimizer='adam')\n",
    "history = model.fit(X, y, epochs=20)"
   ]
  },
  {
   "cell_type": "markdown",
   "metadata": {
    "colab_type": "text",
    "id": "xMcAeV9uzFq0"
   },
   "source": [
    "## 문장 생성"
   ]
  },
  {
   "cell_type": "code",
   "execution_count": null,
   "metadata": {
    "colab": {
     "base_uri": "https://localhost:8080/",
     "height": 36
    },
    "colab_type": "code",
    "executionInfo": {
     "elapsed": 4564,
     "status": "ok",
     "timestamp": 1592932725408,
     "user": {
      "displayName": "Hohyun Kim",
      "photoUrl": "",
      "userId": "08560091150428894976"
     },
     "user_tz": -540
    },
    "id": "11YGnNrpHcRx",
    "outputId": "e15112a5-1608-421e-8d81-efd003669d2a"
   },
   "outputs": [
    {
     "data": {
      "text/plain": [
       "'i will <unk> <unk> in n analyst with progress corp. have ann numberso <unk> that promotions are british issue w'"
      ]
     },
     "execution_count": 16,
     "metadata": {
      "tags": []
     },
     "output_type": "execute_result"
    }
   ],
   "source": [
    "def next_char(texts):\n",
    "    '''\n",
    "    model.predict 단계에서 모델은 다음에 어떤 문자가 올지 확률값을 반환합니다.\n",
    "    그 확률값을 토대로 다음에 올 문자를 샘플링합니다(np.random.choice).\n",
    "    '''\n",
    "    X_new = np.array(tokenizer.texts_to_sequences([texts])) -1\n",
    "    y_proba = model.predict(X_new)[0, -1, :] # (배치, 타입스탭, 다음에 올 문자의 확률)\n",
    "    char_id = np.random.choice(range(len(y_proba)), size=1, p=y_proba)\n",
    "    return tokenizer.sequences_to_texts([char_id+1])[0]\n",
    "\n",
    "def complete_text(text, n_chars=20):\n",
    "    for _ in range(n_chars):\n",
    "        text += next_char(text) \n",
    "    return text\n",
    "\n",
    "text = \"i will be\"\n",
    "complete_text(text, n_chars=105)"
   ]
  }
 ],
 "metadata": {
  "accelerator": "GPU",
  "colab": {
   "collapsed_sections": [],
   "name": "(3.3) RNN Language Model.ipynb",
   "provenance": []
  },
  "kernelspec": {
   "display_name": "Python 3",
   "language": "python",
   "name": "python3"
  },
  "language_info": {
   "codemirror_mode": {
    "name": "ipython",
    "version": 3
   },
   "file_extension": ".py",
   "mimetype": "text/x-python",
   "name": "python",
   "nbconvert_exporter": "python",
   "pygments_lexer": "ipython3",
   "version": "3.7.4"
  },
  "toc": {
   "base_numbering": 1,
   "nav_menu": {},
   "number_sections": true,
   "sideBar": true,
   "skip_h1_title": false,
   "title_cell": "Table of Contents",
   "title_sidebar": "Contents",
   "toc_cell": false,
   "toc_position": {},
   "toc_section_display": true,
   "toc_window_display": false
  },
  "varInspector": {
   "cols": {
    "lenName": 16,
    "lenType": 16,
    "lenVar": 40
   },
   "kernels_config": {
    "python": {
     "delete_cmd_postfix": "",
     "delete_cmd_prefix": "del ",
     "library": "var_list.py",
     "varRefreshCmd": "print(var_dic_list())"
    },
    "r": {
     "delete_cmd_postfix": ") ",
     "delete_cmd_prefix": "rm(",
     "library": "var_list.r",
     "varRefreshCmd": "cat(var_dic_list()) "
    }
   },
   "types_to_exclude": [
    "module",
    "function",
    "builtin_function_or_method",
    "instance",
    "_Feature"
   ],
   "window_display": false
  }
 },
 "nbformat": 4,
 "nbformat_minor": 1
}
