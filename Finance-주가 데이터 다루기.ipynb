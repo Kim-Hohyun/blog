{
 "cells": [
  {
   "cell_type": "markdown",
   "metadata": {},
   "source": [
    "# 주가 데이터 가져오기\n",
    "\n",
    "주가 데이터는 FinanceDataReader 패키지를 이용하면 쉽게 가져올 수 있습니다. 패키지에 대한 설명은 아래 주소에서 확인해보세요. https://github.com/FinanceData/FinanceDataReader\n",
    "    \n",
    "패키지 설치는 아래 명령어를 복사해 주피터 노트북에서 실행시키면 됩니다.\n",
    "\n",
    "    !pip install finance_datareader"
   ]
  },
  {
   "cell_type": "code",
   "execution_count": 2,
   "metadata": {},
   "outputs": [
    {
     "data": {
      "text/html": [
       "<div>\n",
       "<style scoped>\n",
       "    .dataframe tbody tr th:only-of-type {\n",
       "        vertical-align: middle;\n",
       "    }\n",
       "\n",
       "    .dataframe tbody tr th {\n",
       "        vertical-align: top;\n",
       "    }\n",
       "\n",
       "    .dataframe thead th {\n",
       "        text-align: right;\n",
       "    }\n",
       "</style>\n",
       "<table border=\"1\" class=\"dataframe\">\n",
       "  <thead>\n",
       "    <tr style=\"text-align: right;\">\n",
       "      <th></th>\n",
       "      <th>Symbol</th>\n",
       "      <th>Name</th>\n",
       "    </tr>\n",
       "  </thead>\n",
       "  <tbody>\n",
       "    <tr>\n",
       "      <th>0</th>\n",
       "      <td>069500</td>\n",
       "      <td>KODEX 200</td>\n",
       "    </tr>\n",
       "    <tr>\n",
       "      <th>1</th>\n",
       "      <td>102110</td>\n",
       "      <td>TIGER 200</td>\n",
       "    </tr>\n",
       "    <tr>\n",
       "      <th>2</th>\n",
       "      <td>122630</td>\n",
       "      <td>KODEX 레버리지</td>\n",
       "    </tr>\n",
       "    <tr>\n",
       "      <th>3</th>\n",
       "      <td>278540</td>\n",
       "      <td>KODEX MSCI Korea TR</td>\n",
       "    </tr>\n",
       "    <tr>\n",
       "      <th>4</th>\n",
       "      <td>102780</td>\n",
       "      <td>KODEX 삼성그룹</td>\n",
       "    </tr>\n",
       "  </tbody>\n",
       "</table>\n",
       "</div>"
      ],
      "text/plain": [
       "   Symbol                 Name\n",
       "0  069500            KODEX 200\n",
       "1  102110            TIGER 200\n",
       "2  122630           KODEX 레버리지\n",
       "3  278540  KODEX MSCI Korea TR\n",
       "4  102780           KODEX 삼성그룹"
      ]
     },
     "execution_count": 2,
     "metadata": {},
     "output_type": "execute_result"
    }
   ],
   "source": [
    "import FinanceDataReader as fdr\n",
    "\n",
    "# 국내 상장된 ETF 목록을 불러올 수 있습니다.\n",
    "df_etf = fdr.EtfListing('KR')\n",
    "df_etf.head()"
   ]
  },
  {
   "cell_type": "code",
   "execution_count": 3,
   "metadata": {},
   "outputs": [
    {
     "data": {
      "text/html": [
       "<div>\n",
       "<style scoped>\n",
       "    .dataframe tbody tr th:only-of-type {\n",
       "        vertical-align: middle;\n",
       "    }\n",
       "\n",
       "    .dataframe tbody tr th {\n",
       "        vertical-align: top;\n",
       "    }\n",
       "\n",
       "    .dataframe thead th {\n",
       "        text-align: right;\n",
       "    }\n",
       "</style>\n",
       "<table border=\"1\" class=\"dataframe\">\n",
       "  <thead>\n",
       "    <tr style=\"text-align: right;\">\n",
       "      <th></th>\n",
       "      <th>Open</th>\n",
       "      <th>High</th>\n",
       "      <th>Low</th>\n",
       "      <th>Close</th>\n",
       "      <th>Volume</th>\n",
       "      <th>Change</th>\n",
       "    </tr>\n",
       "    <tr>\n",
       "      <th>Date</th>\n",
       "      <th></th>\n",
       "      <th></th>\n",
       "      <th></th>\n",
       "      <th></th>\n",
       "      <th></th>\n",
       "      <th></th>\n",
       "    </tr>\n",
       "  </thead>\n",
       "  <tbody>\n",
       "    <tr>\n",
       "      <th>2012-01-02</th>\n",
       "      <td>21197</td>\n",
       "      <td>21197</td>\n",
       "      <td>20873</td>\n",
       "      <td>21061</td>\n",
       "      <td>165762</td>\n",
       "      <td>0.000000</td>\n",
       "    </tr>\n",
       "    <tr>\n",
       "      <th>2012-01-03</th>\n",
       "      <td>21197</td>\n",
       "      <td>21710</td>\n",
       "      <td>21197</td>\n",
       "      <td>21722</td>\n",
       "      <td>365936</td>\n",
       "      <td>0.031385</td>\n",
       "    </tr>\n",
       "    <tr>\n",
       "      <th>2012-01-04</th>\n",
       "      <td>21808</td>\n",
       "      <td>21808</td>\n",
       "      <td>21582</td>\n",
       "      <td>21597</td>\n",
       "      <td>129764</td>\n",
       "      <td>-0.005755</td>\n",
       "    </tr>\n",
       "    <tr>\n",
       "      <th>2012-01-05</th>\n",
       "      <td>21590</td>\n",
       "      <td>21697</td>\n",
       "      <td>21507</td>\n",
       "      <td>21548</td>\n",
       "      <td>1532245</td>\n",
       "      <td>-0.002269</td>\n",
       "    </tr>\n",
       "    <tr>\n",
       "      <th>2012-01-06</th>\n",
       "      <td>21371</td>\n",
       "      <td>21564</td>\n",
       "      <td>20970</td>\n",
       "      <td>21229</td>\n",
       "      <td>282066</td>\n",
       "      <td>-0.014804</td>\n",
       "    </tr>\n",
       "  </tbody>\n",
       "</table>\n",
       "</div>"
      ],
      "text/plain": [
       "             Open   High    Low  Close   Volume    Change\n",
       "Date                                                     \n",
       "2012-01-02  21197  21197  20873  21061   165762  0.000000\n",
       "2012-01-03  21197  21710  21197  21722   365936  0.031385\n",
       "2012-01-04  21808  21808  21582  21597   129764 -0.005755\n",
       "2012-01-05  21590  21697  21507  21548  1532245 -0.002269\n",
       "2012-01-06  21371  21564  20970  21229   282066 -0.014804"
      ]
     },
     "execution_count": 3,
     "metadata": {},
     "output_type": "execute_result"
    }
   ],
   "source": [
    "# TIGER 200의 종목코드를 확인하고, 데이터를 가져옵니다.\n",
    "df_tiger200 = fdr.DataReader('102110', start='2012-01-01', end='2019-12-31')\n",
    "df_tiger200.head()"
   ]
  },
  {
   "cell_type": "code",
   "execution_count": 4,
   "metadata": {},
   "outputs": [
    {
     "data": {
      "text/html": [
       "<div>\n",
       "<style scoped>\n",
       "    .dataframe tbody tr th:only-of-type {\n",
       "        vertical-align: middle;\n",
       "    }\n",
       "\n",
       "    .dataframe tbody tr th {\n",
       "        vertical-align: top;\n",
       "    }\n",
       "\n",
       "    .dataframe thead th {\n",
       "        text-align: right;\n",
       "    }\n",
       "</style>\n",
       "<table border=\"1\" class=\"dataframe\">\n",
       "  <thead>\n",
       "    <tr style=\"text-align: right;\">\n",
       "      <th></th>\n",
       "      <th>Open</th>\n",
       "      <th>High</th>\n",
       "      <th>Low</th>\n",
       "      <th>Close</th>\n",
       "      <th>Volume</th>\n",
       "      <th>Change</th>\n",
       "    </tr>\n",
       "    <tr>\n",
       "      <th>Date</th>\n",
       "      <th></th>\n",
       "      <th></th>\n",
       "      <th></th>\n",
       "      <th></th>\n",
       "      <th></th>\n",
       "      <th></th>\n",
       "    </tr>\n",
       "  </thead>\n",
       "  <tbody>\n",
       "    <tr>\n",
       "      <th>2012-12-24</th>\n",
       "      <td>23270</td>\n",
       "      <td>23274</td>\n",
       "      <td>23175</td>\n",
       "      <td>23264</td>\n",
       "      <td>624006</td>\n",
       "      <td>0.003061</td>\n",
       "    </tr>\n",
       "    <tr>\n",
       "      <th>2012-12-26</th>\n",
       "      <td>23282</td>\n",
       "      <td>23478</td>\n",
       "      <td>23221</td>\n",
       "      <td>23251</td>\n",
       "      <td>989276</td>\n",
       "      <td>-0.000559</td>\n",
       "    </tr>\n",
       "    <tr>\n",
       "      <th>2012-12-27</th>\n",
       "      <td>23304</td>\n",
       "      <td>23430</td>\n",
       "      <td>23207</td>\n",
       "      <td>23401</td>\n",
       "      <td>2552681</td>\n",
       "      <td>0.006451</td>\n",
       "    </tr>\n",
       "    <tr>\n",
       "      <th>2012-12-28</th>\n",
       "      <td>23455</td>\n",
       "      <td>23585</td>\n",
       "      <td>23417</td>\n",
       "      <td>23534</td>\n",
       "      <td>602935</td>\n",
       "      <td>0.005684</td>\n",
       "    </tr>\n",
       "    <tr>\n",
       "      <th>2013-01-02</th>\n",
       "      <td>23754</td>\n",
       "      <td>23991</td>\n",
       "      <td>23562</td>\n",
       "      <td>23978</td>\n",
       "      <td>1310370</td>\n",
       "      <td>0.018866</td>\n",
       "    </tr>\n",
       "    <tr>\n",
       "      <th>2013-01-03</th>\n",
       "      <td>24035</td>\n",
       "      <td>24172</td>\n",
       "      <td>23869</td>\n",
       "      <td>23875</td>\n",
       "      <td>1106981</td>\n",
       "      <td>-0.004296</td>\n",
       "    </tr>\n",
       "    <tr>\n",
       "      <th>2013-01-04</th>\n",
       "      <td>23869</td>\n",
       "      <td>23936</td>\n",
       "      <td>23695</td>\n",
       "      <td>23754</td>\n",
       "      <td>1447398</td>\n",
       "      <td>-0.005068</td>\n",
       "    </tr>\n",
       "    <tr>\n",
       "      <th>2013-01-07</th>\n",
       "      <td>23855</td>\n",
       "      <td>23855</td>\n",
       "      <td>23592</td>\n",
       "      <td>23793</td>\n",
       "      <td>750783</td>\n",
       "      <td>0.001642</td>\n",
       "    </tr>\n",
       "    <tr>\n",
       "      <th>2013-01-08</th>\n",
       "      <td>23641</td>\n",
       "      <td>23736</td>\n",
       "      <td>23534</td>\n",
       "      <td>23547</td>\n",
       "      <td>1067576</td>\n",
       "      <td>-0.010339</td>\n",
       "    </tr>\n",
       "    <tr>\n",
       "      <th>2013-01-09</th>\n",
       "      <td>23589</td>\n",
       "      <td>23667</td>\n",
       "      <td>23427</td>\n",
       "      <td>23444</td>\n",
       "      <td>257343</td>\n",
       "      <td>-0.004374</td>\n",
       "    </tr>\n",
       "    <tr>\n",
       "      <th>2013-01-10</th>\n",
       "      <td>23539</td>\n",
       "      <td>23707</td>\n",
       "      <td>23371</td>\n",
       "      <td>23662</td>\n",
       "      <td>325030</td>\n",
       "      <td>0.009299</td>\n",
       "    </tr>\n",
       "  </tbody>\n",
       "</table>\n",
       "</div>"
      ],
      "text/plain": [
       "             Open   High    Low  Close   Volume    Change\n",
       "Date                                                     \n",
       "2012-12-24  23270  23274  23175  23264   624006  0.003061\n",
       "2012-12-26  23282  23478  23221  23251   989276 -0.000559\n",
       "2012-12-27  23304  23430  23207  23401  2552681  0.006451\n",
       "2012-12-28  23455  23585  23417  23534   602935  0.005684\n",
       "2013-01-02  23754  23991  23562  23978  1310370  0.018866\n",
       "2013-01-03  24035  24172  23869  23875  1106981 -0.004296\n",
       "2013-01-04  23869  23936  23695  23754  1447398 -0.005068\n",
       "2013-01-07  23855  23855  23592  23793   750783  0.001642\n",
       "2013-01-08  23641  23736  23534  23547  1067576 -0.010339\n",
       "2013-01-09  23589  23667  23427  23444   257343 -0.004374\n",
       "2013-01-10  23539  23707  23371  23662   325030  0.009299"
      ]
     },
     "execution_count": 4,
     "metadata": {},
     "output_type": "execute_result"
    }
   ],
   "source": [
    "# 특정 기간의 데이터만 잘라서 보고 싶을 때\n",
    "from datetime import date\n",
    "df_tiger200.loc[date(2012, 12, 22):date(2013, 1, 10)]"
   ]
  },
  {
   "cell_type": "code",
   "execution_count": 6,
   "metadata": {},
   "outputs": [
    {
     "data": {
      "image/png": "[encoded data removed]",
      "text/plain": [
       "<Figure size 864x432 with 1 Axes>"
      ]
     },
     "metadata": {
      "needs_background": "light"
     },
     "output_type": "display_data"
    }
   ],
   "source": [
    "# 타이거 200의 종가 그래프를 그립니다.\n",
    "\n",
    "import matplotlib.pyplot as plt\n",
    "\n",
    "plt.figure(figsize=(12, 6)) # 판의 크기를 키웁니다.\n",
    "plt.plot(df_tiger200['Close'], label='tiger200')\n",
    "plt.show()"
   ]
  },
  {
   "cell_type": "markdown",
   "metadata": {},
   "source": [
    "데이터 프레임이나 시리즈 객체의 `.rolling(window).mean()` 메서드를 이용하면 이동평균선을 구할 수 있습니다. 예를 들어 window가 10인 경우, 오늘을 포함한 과거 10치 주가의 평균을 구해줍니다."
   ]
  },
  {
   "cell_type": "code",
   "execution_count": 7,
   "metadata": {},
   "outputs": [
    {
     "data": {
      "image/png": "[encoded data removed]",
      "text/plain": [
       "<Figure size 864x432 with 1 Axes>"
      ]
     },
     "metadata": {
      "needs_background": "light"
     },
     "output_type": "display_data"
    }
   ],
   "source": [
    "df_tiger200_moving_avg = df_tiger200['Close'].rolling(10).mean()\n",
    "plt.figure(figsize=(12, 6)) # 판의 크기를 키웁니다.\n",
    "plt.plot(df_tiger200_moving_avg, label='tiger200')\n",
    "plt.show()"
   ]
  },
  {
   "cell_type": "markdown",
   "metadata": {},
   "source": [
    "# 종가 테이블\n",
    "여러 종목을 한번에 분석하기 위해 하나의 표로 정리하는 것이 좋습니다. TIGER200(102110), 삼성전자(005930), SK하이닉스(000660), 현대자동차(005380) 데이터를 가져와서 아래와 같이 종목별 종가 테이블 형태을 만들겠습니다."
   ]
  },
  {
   "cell_type": "code",
   "execution_count": 8,
   "metadata": {},
   "outputs": [
    {
     "data": {
      "text/html": [
       "<div>\n",
       "<style scoped>\n",
       "    .dataframe tbody tr th:only-of-type {\n",
       "        vertical-align: middle;\n",
       "    }\n",
       "\n",
       "    .dataframe tbody tr th {\n",
       "        vertical-align: top;\n",
       "    }\n",
       "\n",
       "    .dataframe thead th {\n",
       "        text-align: right;\n",
       "    }\n",
       "</style>\n",
       "<table border=\"1\" class=\"dataframe\">\n",
       "  <thead>\n",
       "    <tr style=\"text-align: right;\">\n",
       "      <th></th>\n",
       "      <th>102110</th>\n",
       "      <th>005930</th>\n",
       "      <th>000660</th>\n",
       "      <th>005380</th>\n",
       "    </tr>\n",
       "    <tr>\n",
       "      <th>Date</th>\n",
       "      <th></th>\n",
       "      <th></th>\n",
       "      <th></th>\n",
       "      <th></th>\n",
       "    </tr>\n",
       "  </thead>\n",
       "  <tbody>\n",
       "    <tr>\n",
       "      <th>2012-01-02</th>\n",
       "      <td>21061</td>\n",
       "      <td>21600</td>\n",
       "      <td>23450</td>\n",
       "      <td>212500</td>\n",
       "    </tr>\n",
       "    <tr>\n",
       "      <th>2012-01-03</th>\n",
       "      <td>21722</td>\n",
       "      <td>22100</td>\n",
       "      <td>23650</td>\n",
       "      <td>221500</td>\n",
       "    </tr>\n",
       "    <tr>\n",
       "      <th>2012-01-04</th>\n",
       "      <td>21597</td>\n",
       "      <td>21600</td>\n",
       "      <td>23850</td>\n",
       "      <td>223500</td>\n",
       "    </tr>\n",
       "    <tr>\n",
       "      <th>2012-01-05</th>\n",
       "      <td>21548</td>\n",
       "      <td>21100</td>\n",
       "      <td>24000</td>\n",
       "      <td>223500</td>\n",
       "    </tr>\n",
       "    <tr>\n",
       "      <th>2012-01-06</th>\n",
       "      <td>21229</td>\n",
       "      <td>20800</td>\n",
       "      <td>24400</td>\n",
       "      <td>219500</td>\n",
       "    </tr>\n",
       "  </tbody>\n",
       "</table>\n",
       "</div>"
      ],
      "text/plain": [
       "            102110  005930  000660  005380\n",
       "Date                                      \n",
       "2012-01-02   21061   21600   23450  212500\n",
       "2012-01-03   21722   22100   23650  221500\n",
       "2012-01-04   21597   21600   23850  223500\n",
       "2012-01-05   21548   21100   24000  223500\n",
       "2012-01-06   21229   20800   24400  219500"
      ]
     },
     "execution_count": 8,
     "metadata": {},
     "output_type": "execute_result"
    }
   ],
   "source": [
    "import pandas as pd\n",
    "symbol_list = ['102110', '005930', '000660', '005380']\n",
    "\n",
    "data_dict = {}\n",
    "for symbol in symbol_list:\n",
    "    data_dict[symbol] = fdr.DataReader(symbol, start='2012-01-01', end='2019-12-31')\n",
    "close_df = pd.DataFrame({k:v['Close'] for k, v in data_dict.items()})\n",
    "\n",
    "close_df.head()"
   ]
  },
  {
   "cell_type": "markdown",
   "metadata": {},
   "source": [
    "# 수익률 테이블\n",
    "\n",
    "위에서 구한 `close_df`를 토대로 일별 수익률 테이블을 만들어보겠습니다.\n",
    "\n",
    "참고로 수익률을 구하는 공식은 다음과 같습니다. $X_0$을 투자해서 $X_1$을 벌었다고 할 때의 수익률은, \n",
    "\n",
    "- $\\frac{X_1}{X_0} - 1$\n",
    "\n",
    "입니다. 일별 수익률을 계산할 때 $X_0$은 어제의 종가이고 $X_1$은 오늘의 종가가 됩니다."
   ]
  },
  {
   "cell_type": "code",
   "execution_count": 8,
   "metadata": {},
   "outputs": [
    {
     "data": {
      "text/html": [
       "<div>\n",
       "<style scoped>\n",
       "    .dataframe tbody tr th:only-of-type {\n",
       "        vertical-align: middle;\n",
       "    }\n",
       "\n",
       "    .dataframe tbody tr th {\n",
       "        vertical-align: top;\n",
       "    }\n",
       "\n",
       "    .dataframe thead th {\n",
       "        text-align: right;\n",
       "    }\n",
       "</style>\n",
       "<table border=\"1\" class=\"dataframe\">\n",
       "  <thead>\n",
       "    <tr style=\"text-align: right;\">\n",
       "      <th></th>\n",
       "      <th>102110</th>\n",
       "      <th>005930</th>\n",
       "      <th>000660</th>\n",
       "      <th>005380</th>\n",
       "    </tr>\n",
       "    <tr>\n",
       "      <th>Date</th>\n",
       "      <th></th>\n",
       "      <th></th>\n",
       "      <th></th>\n",
       "      <th></th>\n",
       "    </tr>\n",
       "  </thead>\n",
       "  <tbody>\n",
       "    <tr>\n",
       "      <th>2012-01-02</th>\n",
       "      <td>NaN</td>\n",
       "      <td>NaN</td>\n",
       "      <td>NaN</td>\n",
       "      <td>NaN</td>\n",
       "    </tr>\n",
       "    <tr>\n",
       "      <th>2012-01-03</th>\n",
       "      <td>0.031385</td>\n",
       "      <td>0.023148</td>\n",
       "      <td>0.008529</td>\n",
       "      <td>0.042353</td>\n",
       "    </tr>\n",
       "    <tr>\n",
       "      <th>2012-01-04</th>\n",
       "      <td>-0.005755</td>\n",
       "      <td>-0.022624</td>\n",
       "      <td>0.008457</td>\n",
       "      <td>0.009029</td>\n",
       "    </tr>\n",
       "    <tr>\n",
       "      <th>2012-01-05</th>\n",
       "      <td>-0.002269</td>\n",
       "      <td>-0.023148</td>\n",
       "      <td>0.006289</td>\n",
       "      <td>0.000000</td>\n",
       "    </tr>\n",
       "    <tr>\n",
       "      <th>2012-01-06</th>\n",
       "      <td>-0.014804</td>\n",
       "      <td>-0.014218</td>\n",
       "      <td>0.016667</td>\n",
       "      <td>-0.017897</td>\n",
       "    </tr>\n",
       "  </tbody>\n",
       "</table>\n",
       "</div>"
      ],
      "text/plain": [
       "              102110    005930    000660    005380\n",
       "Date                                              \n",
       "2012-01-02       NaN       NaN       NaN       NaN\n",
       "2012-01-03  0.031385  0.023148  0.008529  0.042353\n",
       "2012-01-04 -0.005755 -0.022624  0.008457  0.009029\n",
       "2012-01-05 -0.002269 -0.023148  0.006289  0.000000\n",
       "2012-01-06 -0.014804 -0.014218  0.016667 -0.017897"
      ]
     },
     "execution_count": 8,
     "metadata": {},
     "output_type": "execute_result"
    }
   ],
   "source": [
    "# shift 메서드는 표를 한 칸씩 밑으로 내려가게 만듭니다. (실험해보세요!)\n",
    "change_df = close_df / close_df.shift(1) - 1\n",
    "change_df.head()"
   ]
  },
  {
   "cell_type": "markdown",
   "metadata": {},
   "source": [
    "## pct_change()\n",
    "\n",
    "위 방법처럼 공식으로 구하는 것도 좋지만, 수익률을 구하는 더 쉬운 방법은 `.pct_change(periods)` 메서드를 이용하는 것입니다. `.pct_change(periods)`는 `periods` 동안의 수익률을 구해줍니다. 예를 들어, `periods = 5`이면, 5일 동안의 수익률을 구해줍니다. "
   ]
  },
  {
   "cell_type": "code",
   "execution_count": 13,
   "metadata": {},
   "outputs": [
    {
     "data": {
      "text/html": [
       "<div>\n",
       "<style scoped>\n",
       "    .dataframe tbody tr th:only-of-type {\n",
       "        vertical-align: middle;\n",
       "    }\n",
       "\n",
       "    .dataframe tbody tr th {\n",
       "        vertical-align: top;\n",
       "    }\n",
       "\n",
       "    .dataframe thead th {\n",
       "        text-align: right;\n",
       "    }\n",
       "</style>\n",
       "<table border=\"1\" class=\"dataframe\">\n",
       "  <thead>\n",
       "    <tr style=\"text-align: right;\">\n",
       "      <th></th>\n",
       "      <th>102110</th>\n",
       "      <th>005930</th>\n",
       "      <th>000660</th>\n",
       "      <th>005380</th>\n",
       "    </tr>\n",
       "    <tr>\n",
       "      <th>Date</th>\n",
       "      <th></th>\n",
       "      <th></th>\n",
       "      <th></th>\n",
       "      <th></th>\n",
       "    </tr>\n",
       "  </thead>\n",
       "  <tbody>\n",
       "    <tr>\n",
       "      <th>2012-01-02</th>\n",
       "      <td>NaN</td>\n",
       "      <td>NaN</td>\n",
       "      <td>NaN</td>\n",
       "      <td>NaN</td>\n",
       "    </tr>\n",
       "    <tr>\n",
       "      <th>2012-01-03</th>\n",
       "      <td>0.031385</td>\n",
       "      <td>0.023148</td>\n",
       "      <td>0.008529</td>\n",
       "      <td>0.042353</td>\n",
       "    </tr>\n",
       "    <tr>\n",
       "      <th>2012-01-04</th>\n",
       "      <td>-0.005755</td>\n",
       "      <td>-0.022624</td>\n",
       "      <td>0.008457</td>\n",
       "      <td>0.009029</td>\n",
       "    </tr>\n",
       "    <tr>\n",
       "      <th>2012-01-05</th>\n",
       "      <td>-0.002269</td>\n",
       "      <td>-0.023148</td>\n",
       "      <td>0.006289</td>\n",
       "      <td>0.000000</td>\n",
       "    </tr>\n",
       "    <tr>\n",
       "      <th>2012-01-06</th>\n",
       "      <td>-0.014804</td>\n",
       "      <td>-0.014218</td>\n",
       "      <td>0.016667</td>\n",
       "      <td>-0.017897</td>\n",
       "    </tr>\n",
       "  </tbody>\n",
       "</table>\n",
       "</div>"
      ],
      "text/plain": [
       "              102110    005930    000660    005380\n",
       "Date                                              \n",
       "2012-01-02       NaN       NaN       NaN       NaN\n",
       "2012-01-03  0.031385  0.023148  0.008529  0.042353\n",
       "2012-01-04 -0.005755 -0.022624  0.008457  0.009029\n",
       "2012-01-05 -0.002269 -0.023148  0.006289  0.000000\n",
       "2012-01-06 -0.014804 -0.014218  0.016667 -0.017897"
      ]
     },
     "execution_count": 13,
     "metadata": {},
     "output_type": "execute_result"
    }
   ],
   "source": [
    "change_df = close_df.pct_change(1)\n",
    "change_df.head()"
   ]
  },
  {
   "cell_type": "markdown",
   "metadata": {},
   "source": [
    "# 공분산, 상관관계 구하기"
   ]
  },
  {
   "cell_type": "code",
   "execution_count": 9,
   "metadata": {},
   "outputs": [
    {
     "data": {
      "text/html": [
       "<div>\n",
       "<style scoped>\n",
       "    .dataframe tbody tr th:only-of-type {\n",
       "        vertical-align: middle;\n",
       "    }\n",
       "\n",
       "    .dataframe tbody tr th {\n",
       "        vertical-align: top;\n",
       "    }\n",
       "\n",
       "    .dataframe thead th {\n",
       "        text-align: right;\n",
       "    }\n",
       "</style>\n",
       "<table border=\"1\" class=\"dataframe\">\n",
       "  <thead>\n",
       "    <tr style=\"text-align: right;\">\n",
       "      <th></th>\n",
       "      <th>102110</th>\n",
       "      <th>005930</th>\n",
       "      <th>000660</th>\n",
       "      <th>005380</th>\n",
       "    </tr>\n",
       "  </thead>\n",
       "  <tbody>\n",
       "    <tr>\n",
       "      <th>102110</th>\n",
       "      <td>0.000067</td>\n",
       "      <td>0.000096</td>\n",
       "      <td>0.000090</td>\n",
       "      <td>0.000059</td>\n",
       "    </tr>\n",
       "    <tr>\n",
       "      <th>005930</th>\n",
       "      <td>0.000096</td>\n",
       "      <td>0.000267</td>\n",
       "      <td>0.000150</td>\n",
       "      <td>0.000052</td>\n",
       "    </tr>\n",
       "    <tr>\n",
       "      <th>000660</th>\n",
       "      <td>0.000090</td>\n",
       "      <td>0.000150</td>\n",
       "      <td>0.000473</td>\n",
       "      <td>0.000045</td>\n",
       "    </tr>\n",
       "    <tr>\n",
       "      <th>005380</th>\n",
       "      <td>0.000059</td>\n",
       "      <td>0.000052</td>\n",
       "      <td>0.000045</td>\n",
       "      <td>0.000324</td>\n",
       "    </tr>\n",
       "  </tbody>\n",
       "</table>\n",
       "</div>"
      ],
      "text/plain": [
       "          102110    005930    000660    005380\n",
       "102110  0.000067  0.000096  0.000090  0.000059\n",
       "005930  0.000096  0.000267  0.000150  0.000052\n",
       "000660  0.000090  0.000150  0.000473  0.000045\n",
       "005380  0.000059  0.000052  0.000045  0.000324"
      ]
     },
     "execution_count": 9,
     "metadata": {},
     "output_type": "execute_result"
    }
   ],
   "source": [
    "# 공분산 구하기\n",
    "change_df.cov()"
   ]
  },
  {
   "cell_type": "markdown",
   "metadata": {},
   "source": [
    "`.corr()` 메서드를 통해 상관관계를 구할 수 있습니다. 상관관계는 수익률이 종목별로 서로 얼마나 관련되어 있는지를 수치적으로 보는 건데요, 1에 가까울 수록 상관관계가 높다고 합니다.\n",
    "\n",
    "상관관계를 구한 후, 이를 시각적으로 표현하기 위해 `plt.matshow()`를 이용했습니다. (행렬을 그림으로 표현해줄 때 이용합니다.)"
   ]
  },
  {
   "cell_type": "code",
   "execution_count": 10,
   "metadata": {},
   "outputs": [
    {
     "data": {
      "image/png": "[encoded data removed]",
      "text/plain": [
       "<Figure size 288x288 with 1 Axes>"
      ]
     },
     "metadata": {
      "needs_background": "light"
     },
     "output_type": "display_data"
    }
   ],
   "source": [
    "plt.matshow(change_df.corr())\n",
    "plt.show()"
   ]
  },
  {
   "cell_type": "markdown",
   "metadata": {},
   "source": [
    "# 로그 수익률 구하기\n",
    "\n",
    "수익률을 로그 수익률로 계산하면 여러 가지 계산상의 이점이 있습니다. 로그 수익률은 다음과 같이 구합니다. 즉 1을 더해준 뒤, 자연상수 $e$를 밑으로 하는 로그를 취해주면 됩니다.\n",
    "\n",
    "+ $r_{log} = \\ln (r+1)$\n",
    "\n",
    "거꾸로 로그 수익률을 일반적인 수익률로 바꿔줄 때는 다음 공식을 사용합니다.\n",
    "\n",
    "- $e^{r_{log}}-1$\n",
    "\n",
    "\n",
    "로그 수익률을 이용하는 방법에는 여러 가지가 있지만, 복리를 계산할 때 편리합니다. 로그 수익률이 아닌, 일반적인 수익률로 복리를 계산하려면 다음과 같이 해야 합니다.\n",
    "\n",
    "- $r_{(3days)} = (r_{(1)}+1)(r_{(2)}+1)(r_{(3)}+1)-1$\n",
    "\n",
    "반면 로그의 성질에 의해, 3일치 로그 수익률은 그저 더하기만 하면 됩니다.\n",
    "\n",
    "- $r_{log(3days)} = r_{log(1)}+r_{log(2)}+r_{log(3)}-1$\n",
    "\n",
    "3일치 로그 수익률을 구한 다음에는 아래처럼 일반적인 수익률로 다시 변환하면 3일치 수익률을 구할 수 있습니다.\n",
    "\n",
    "- $r_{(3days)} = e^{r_{log(3days)}}-1$\n",
    "\n",
    "아래에서 코드로 실습해보겠습니다."
   ]
  },
  {
   "cell_type": "code",
   "execution_count": 11,
   "metadata": {
    "scrolled": true
   },
   "outputs": [],
   "source": [
    "# 로그 수익률 구하기\n",
    "import numpy as np\n",
    "log_returns = np.log(change_df+1)"
   ]
  },
  {
   "cell_type": "code",
   "execution_count": 12,
   "metadata": {},
   "outputs": [
    {
     "data": {
      "text/plain": [
       "102110    0.415887\n",
       "005930    1.583333\n",
       "000660    3.012793\n",
       "005380   -0.432941\n",
       "dtype: float64"
      ]
     },
     "execution_count": 12,
     "metadata": {},
     "output_type": "execute_result"
    }
   ],
   "source": [
    "# log_returns.sum()으로 합계 계산 후, 일반 수익률로 다시 변환하기\n",
    "returns = np.exp(log_returns.sum())-1\n",
    "\n",
    "# 2012~2019년 동안의 수익률입니다.\n",
    "returns"
   ]
  },
  {
   "cell_type": "markdown",
   "metadata": {},
   "source": [
    "# 연도별 수익률 구하기\n",
    "로그 수익률 계산법을 응용해 연도별 수익률을 계산해보겠습니다. \n",
    "\n",
    "`map` 함수는 https://dojang.io/mod/page/view.php?id=2286 에 사용법이 나와있습니다."
   ]
  },
  {
   "cell_type": "code",
   "execution_count": 13,
   "metadata": {},
   "outputs": [
    {
     "data": {
      "text/html": [
       "<div>\n",
       "<style scoped>\n",
       "    .dataframe tbody tr th:only-of-type {\n",
       "        vertical-align: middle;\n",
       "    }\n",
       "\n",
       "    .dataframe tbody tr th {\n",
       "        vertical-align: top;\n",
       "    }\n",
       "\n",
       "    .dataframe thead th {\n",
       "        text-align: right;\n",
       "    }\n",
       "</style>\n",
       "<table border=\"1\" class=\"dataframe\">\n",
       "  <thead>\n",
       "    <tr style=\"text-align: right;\">\n",
       "      <th></th>\n",
       "      <th>102110</th>\n",
       "      <th>005930</th>\n",
       "      <th>000660</th>\n",
       "      <th>005380</th>\n",
       "    </tr>\n",
       "  </thead>\n",
       "  <tbody>\n",
       "    <tr>\n",
       "      <th>2012</th>\n",
       "      <td>0.132196</td>\n",
       "      <td>0.475516</td>\n",
       "      <td>0.176957</td>\n",
       "      <td>0.072839</td>\n",
       "    </tr>\n",
       "    <tr>\n",
       "      <th>2013</th>\n",
       "      <td>0.025536</td>\n",
       "      <td>-0.071788</td>\n",
       "      <td>0.495735</td>\n",
       "      <td>0.124899</td>\n",
       "    </tr>\n",
       "    <tr>\n",
       "      <th>2014</th>\n",
       "      <td>-0.060563</td>\n",
       "      <td>-0.003905</td>\n",
       "      <td>0.365066</td>\n",
       "      <td>-0.252548</td>\n",
       "    </tr>\n",
       "    <tr>\n",
       "      <th>2015</th>\n",
       "      <td>0.012011</td>\n",
       "      <td>-0.017804</td>\n",
       "      <td>-0.312847</td>\n",
       "      <td>-0.075889</td>\n",
       "    </tr>\n",
       "    <tr>\n",
       "      <th>2016</th>\n",
       "      <td>0.108193</td>\n",
       "      <td>0.482588</td>\n",
       "      <td>0.532477</td>\n",
       "      <td>0.009732</td>\n",
       "    </tr>\n",
       "    <tr>\n",
       "      <th>2017</th>\n",
       "      <td>0.278056</td>\n",
       "      <td>0.453507</td>\n",
       "      <td>0.815322</td>\n",
       "      <td>0.113388</td>\n",
       "    </tr>\n",
       "    <tr>\n",
       "      <th>2018</th>\n",
       "      <td>-0.163760</td>\n",
       "      <td>-0.213699</td>\n",
       "      <td>-0.158596</td>\n",
       "      <td>-0.204829</td>\n",
       "    </tr>\n",
       "    <tr>\n",
       "      <th>2019</th>\n",
       "      <td>0.156850</td>\n",
       "      <td>0.479904</td>\n",
       "      <td>0.652223</td>\n",
       "      <td>0.045925</td>\n",
       "    </tr>\n",
       "  </tbody>\n",
       "</table>\n",
       "</div>"
      ],
      "text/plain": [
       "        102110    005930    000660    005380\n",
       "2012  0.132196  0.475516  0.176957  0.072839\n",
       "2013  0.025536 -0.071788  0.495735  0.124899\n",
       "2014 -0.060563 -0.003905  0.365066 -0.252548\n",
       "2015  0.012011 -0.017804 -0.312847 -0.075889\n",
       "2016  0.108193  0.482588  0.532477  0.009732\n",
       "2017  0.278056  0.453507  0.815322  0.113388\n",
       "2018 -0.163760 -0.213699 -0.158596 -0.204829\n",
       "2019  0.156850  0.479904  0.652223  0.045925"
      ]
     },
     "execution_count": 13,
     "metadata": {},
     "output_type": "execute_result"
    }
   ],
   "source": [
    "import numpy as np\n",
    "change_df_new = change_df.copy()\n",
    "change_df_new.index = map(lambda x: x.strftime(\"%Y\"), change_df.index)\n",
    "np.exp(change_df_new.groupby(change_df_new.index).sum())-1"
   ]
  }
 ],
 "metadata": {
  "kernelspec": {
   "display_name": "Python 3",
   "language": "python",
   "name": "python3"
  },
  "language_info": {
   "codemirror_mode": {
    "name": "ipython",
    "version": 3
   },
   "file_extension": ".py",
   "mimetype": "text/x-python",
   "name": "python",
   "nbconvert_exporter": "python",
   "pygments_lexer": "ipython3",
   "version": "3.7.4"
  },
  "toc": {
   "base_numbering": 1,
   "nav_menu": {},
   "number_sections": true,
   "sideBar": true,
   "skip_h1_title": false,
   "title_cell": "Table of Contents",
   "title_sidebar": "Contents",
   "toc_cell": false,
   "toc_position": {},
   "toc_section_display": true,
   "toc_window_display": false
  },
  "varInspector": {
   "cols": {
    "lenName": 16,
    "lenType": 16,
    "lenVar": 40
   },
   "kernels_config": {
    "python": {
     "delete_cmd_postfix": "",
     "delete_cmd_prefix": "del ",
     "library": "var_list.py",
     "varRefreshCmd": "print(var_dic_list())"
    },
    "r": {
     "delete_cmd_postfix": ") ",
     "delete_cmd_prefix": "rm(",
     "library": "var_list.r",
     "varRefreshCmd": "cat(var_dic_list()) "
    }
   },
   "types_to_exclude": [
    "module",
    "function",
    "builtin_function_or_method",
    "instance",
    "_Feature"
   ],
   "window_display": false
  }
 },
 "nbformat": 4,
 "nbformat_minor": 2
}
