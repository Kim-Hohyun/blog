{
 "cells": [
  {
   "cell_type": "markdown",
   "metadata": {},
   "source": [
    "https://tutorials.pytorch.kr/beginner/transformer_tutorial.html"
   ]
  },
  {
   "cell_type": "code",
   "execution_count": 1,
   "metadata": {},
   "outputs": [],
   "source": [
    "from tensorflow.keras.preprocessing.text import Tokenizer\n",
    "from tensorflow.keras.preprocessing.sequence import pad_sequences\n",
    "\n",
    "import torch\n",
    "from torch import nn\n",
    "from torch import optim\n",
    "from torch.utils.data import TensorDataset, DataLoader\n",
    "import math\n",
    "import numpy as np"
   ]
  },
  {
   "cell_type": "code",
   "execution_count": 2,
   "metadata": {},
   "outputs": [],
   "source": [
    "# 링크가 동작하지 않는 경우 사용\n",
    "# def get_data(file_path):\n",
    "#     questions, answers = [], []\n",
    "#     with open(file_path, 'r') as f:\n",
    "#         for line in f:\n",
    "#             idx = line.find('_')\n",
    "#             questions.append(line[:idx].strip())\n",
    "#             answers.append(line[idx:-1].strip())\n",
    "#     return questions, answers\n",
    "\n",
    "# file_path = './data/date.txt'\n",
    "# questions, answers = get_data(file_path)\n",
    "\n",
    "import requests\n",
    "\n",
    "url = \"https://raw.githubusercontent.com/WegraLee/deep-learning-from-scratch-2/master/dataset/date.txt\"\n",
    "r = requests.get(url)\n",
    "\n",
    "questions, answers = [], []\n",
    "for line in r.text.strip().split('\\n'):\n",
    "    idx = line.find('_')\n",
    "    questions.append(line[:idx].strip())\n",
    "    answers.append(line[idx:].strip())"
   ]
  },
  {
   "cell_type": "code",
   "execution_count": 3,
   "metadata": {},
   "outputs": [],
   "source": [
    "class TokenizerPlus(Tokenizer):\n",
    "        \n",
    "    def to_tensor(self, texts, **kwargs):\n",
    "        sequences = self.texts_to_sequences(texts)\n",
    "        padded = pad_sequences(sequences, **kwargs)\n",
    "        return torch.tensor(padded, dtype=torch.int64)\n",
    "    \n",
    "    def to_string(self, tensor):\n",
    "        texts = self.sequences_to_texts(tensor.data.numpy())\n",
    "        return [t[::2] for t in texts]\n",
    "    \n",
    "    \n",
    "# 토큰으로 나눠주고 패딩 처리를 합니다.\n",
    "tokenizer = TokenizerPlus(char_level=True, filters='')\n",
    "tokenizer.fit_on_texts(questions)\n",
    "tokenizer.fit_on_texts(answers)\n",
    "\n",
    "src = tokenizer.to_tensor(questions)\n",
    "tgt = tokenizer.to_tensor(answers, padding='post')"
   ]
  },
  {
   "cell_type": "code",
   "execution_count": 4,
   "metadata": {},
   "outputs": [],
   "source": [
    "class PositionalEncoding(nn.Module):\n",
    "\n",
    "    def __init__(self, d_model, dropout=0.1, max_len=5000):\n",
    "        super(PositionalEncoding, self).__init__()\n",
    "        self.dropout = nn.Dropout(p=dropout)\n",
    "        \n",
    "        # Compute the positional encodings once in log space.\n",
    "        pe = torch.zeros(max_len, d_model)\n",
    "        position = torch.arange(0, max_len).unsqueeze(1)\n",
    "        div_term = torch.exp(torch.arange(0, d_model, 2) *\n",
    "                             -(math.log(10000.0) / d_model))\n",
    "        pe[:, 0::2] = torch.sin(position * div_term)\n",
    "        pe[:, 1::2] = torch.cos(position * div_term)\n",
    "        pe = pe.unsqueeze(0)\n",
    "        self.register_buffer('pe', pe)\n",
    "        \n",
    "    def forward(self, x):\n",
    "        x = x + self.pe[:, :x.size(1)]\n",
    "        return self.dropout(x)\n",
    "    \n",
    "class TransformerModel(nn.Module):\n",
    "    def __init__(self, vocab_size, d_model, nhead, nhid, nlayers):\n",
    "        super(TransformerModel, self).__init__()\n",
    "        self.vocab_size = vocab_size\n",
    "        self.d_model = d_model\n",
    "        self.nhead = nhead\n",
    "        self.nhid = nhid\n",
    "        self.nlayers = nlayers\n",
    "        \n",
    "        self.emb = nn.Embedding(vocab_size, d_model)\n",
    "        self.pe = PositionalEncoding(d_model)\n",
    "        self.transformer = nn.Transformer(d_model, nhead,\n",
    "                                          num_encoder_layers=nlayers,\n",
    "                                          num_decoder_layers=nlayers,\n",
    "                                          dim_feedforward=nhid,\n",
    "                                         )\n",
    "        self.lin = nn.Linear(d_model, vocab_size)\n",
    "        self.lin.weight = self.emb.weight\n",
    "                \n",
    "    def forward(self, src, tgt, pad_id=0):\n",
    "        mem, mk = self.encode(src, pad_id)\n",
    "        return self.decode(tgt, mem, mk, pad_id)\n",
    "    \n",
    "    def encode(self, src, pad_id=0):\n",
    "        x = self.emb(src) * math.sqrt(self.d_model)\n",
    "        x = self.pe(x)\n",
    "        mask = (src == pad_id)\n",
    "        memory = self.transformer.encoder(x.transpose(0, 1), src_key_padding_mask=mask)\n",
    "        return memory, mask\n",
    "    \n",
    "    def decode(self, tgt, memory, memory_mask, pad_id=0):\n",
    "        x = self.emb(tgt) * math.sqrt(self.d_model)\n",
    "        x = self.pe(x)\n",
    "        \n",
    "        tgt_mask = self.transformer.generate_square_subsequent_mask(x.size(1))\n",
    "        out = self.transformer.decoder(x.transpose(0, 1), memory, \n",
    "                                       tgt_mask=tgt_mask,\n",
    "                                       tgt_key_padding_mask=(tgt == pad_id),\n",
    "                                       memory_key_padding_mask=memory_mask\n",
    "                                       )\n",
    "    \n",
    "        return self.lin(out.transpose(0, 1))\n",
    "\n",
    "    def greedy_decoding(self, src, start_token):\n",
    "        N = src.size(0)\n",
    "        mem, mk = self.encode(src)\n",
    "        preds = tokenizer.to_tensor([start_token]*N)\n",
    "\n",
    "        for _ in range(10):\n",
    "            y_pred = self.decode(preds, mem, mk)\n",
    "            t_pred = torch.argmax(y_pred[:,-1,:], axis=-1, keepdims=True)\n",
    "            preds = torch.cat([preds, t_pred], axis=1)            \n",
    "\n",
    "        return tokenizer.to_string(preds[:, 1:])"
   ]
  },
  {
   "cell_type": "code",
   "execution_count": 6,
   "metadata": {},
   "outputs": [
    {
     "name": "stdout",
     "output_type": "stream",
     "text": [
      "EPOCH: 1 :: loss: 0.555 acc: 0.99598\n",
      "EPOCH: 2 :: loss: 0.019 acc: 1.0\n",
      "EPOCH: 3 :: loss: 0.008 acc: 1.0\n",
      "EPOCH: 4 :: loss: 0.006 acc: 1.0\n",
      "EPOCH: 5 :: loss: 0.004 acc: 1.0\n"
     ]
    }
   ],
   "source": [
    "class Trainer:\n",
    "    def __init__(self, model, loss_fn, optimizer, pad_id=0, start_token='_'):\n",
    "        self.model = model\n",
    "        self.loss_fn = loss_fn\n",
    "        self.optimizer = optimizer\n",
    "        self.pad_id = pad_id\n",
    "        self.start_token = start_token\n",
    "        self.losses = []\n",
    "        self.current_epoch = 0\n",
    "        \n",
    "    def train(self, src, tgt, max_epoch=1, batch_size=128):\n",
    "        X1_train = src\n",
    "        X2_train = tgt[:, :-1]\n",
    "        y_train = tgt[:, 1:]\n",
    "        ds = TensorDataset(X1_train, X2_train, y_train)\n",
    "        loader = DataLoader(ds, batch_size=batch_size, shuffle=True)\n",
    "        \n",
    "        for epoch in range(1, max_epoch+1):\n",
    "            self.model.train()\n",
    "            running_loss = 0\n",
    "            self.current_epoch += 1\n",
    "            print(\"EPOCH: %s :: \" %self.current_epoch, end='')\n",
    "            for i, (x1, x2, yy) in enumerate(loader):\n",
    "                y_pred = self.model(x1, x2, self.pad_id)\n",
    "                loss = self.loss_fn(y_pred.view(-1, y_pred.size(-1)), yy.view(-1))\n",
    "                self.optimizer.zero_grad()\n",
    "                loss.backward()\n",
    "                self.optimizer.step()\n",
    "                running_loss += loss.item()\n",
    "            \n",
    "            self.model.eval()\n",
    "            running_loss = round(running_loss / (i+1), 3)\n",
    "            self.losses.append(running_loss)\n",
    "            acc = self.evaluate(src, y_train)\n",
    "            print(\"loss: %s\" %(running_loss), \"acc: %s\" %acc)\n",
    "        \n",
    "    def evaluate(self, src, y):\n",
    "        pred = np.array(self.model.greedy_decoding(src, start_token='_'))\n",
    "        y_text = np.array(tokenizer.to_string(y))\n",
    "        acc = (pred == y_text).sum() / y_text.size\n",
    "        return acc\n",
    "    \n",
    "model = TransformerModel(len(tokenizer.word_index)+1, \n",
    "                         d_model=64, nhead=4, \n",
    "                         nhid=256, nlayers=2)\n",
    "for p in model.parameters():\n",
    "    if p.dim() > 1:\n",
    "        nn.init.xavier_uniform_(p)\n",
    "            \n",
    "loss_fn = nn.CrossEntropyLoss()\n",
    "optimizer = optim.Adam(model.parameters())\n",
    "\n",
    "trainer = Trainer(model, loss_fn, optimizer)\n",
    "trainer.train(src, tgt, max_epoch=5)"
   ]
  },
  {
   "cell_type": "code",
   "execution_count": 7,
   "metadata": {},
   "outputs": [
    {
     "data": {
      "image/png": "[encoded data removed]",
      "text/plain": [
       "<Figure size 432x288 with 1 Axes>"
      ]
     },
     "metadata": {
      "needs_background": "light"
     },
     "output_type": "display_data"
    }
   ],
   "source": [
    "import matplotlib.pyplot as plt\n",
    "\n",
    "plt.plot(trainer.losses)\n",
    "plt.xticks(range(1, 6))\n",
    "plt.show()"
   ]
  },
  {
   "cell_type": "code",
   "execution_count": 28,
   "metadata": {},
   "outputs": [
    {
     "data": {
      "text/plain": [
       "['1990-09-01']"
      ]
     },
     "execution_count": 28,
     "metadata": {},
     "output_type": "execute_result"
    }
   ],
   "source": [
    "sample = ['september 1, 1990']\n",
    "\n",
    "test = tokenizer.to_tensor(sample, maxlen=29)\n",
    "model.greedy_decoding(test, '_')"
   ]
  },
  {
   "cell_type": "code",
   "execution_count": 96,
   "metadata": {
    "code_folding": [
     0,
     15,
     36
    ]
   },
   "outputs": [],
   "source": [
    "def decoder_forward(self, tgt, memory, tgt_mask = None, memory_mask = None,\n",
    "                tgt_key_padding_mask = None, memory_key_padding_mask = None):\n",
    "    tgt2 = self.self_attn(tgt, tgt, tgt, attn_mask=tgt_mask,\n",
    "                          key_padding_mask=tgt_key_padding_mask)[0]\n",
    "    tgt = tgt + self.dropout1(tgt2)\n",
    "    tgt = self.norm1(tgt)\n",
    "    tgt2, p_attn = self.multihead_attn(tgt, memory, memory, attn_mask=memory_mask,\n",
    "                               key_padding_mask=memory_key_padding_mask)\n",
    "    tgt = tgt + self.dropout2(tgt2)\n",
    "    tgt = self.norm2(tgt)\n",
    "    tgt2 = self.linear2(self.dropout(self.activation(self.linear1(tgt))))\n",
    "    tgt = tgt + self.dropout3(tgt2)\n",
    "    tgt = self.norm3(tgt)\n",
    "    return tgt, p_attn\n",
    "\n",
    "def decode(self, tgt, memory, memory_mask, pad_id=0):\n",
    "    x = self.emb(tgt) * math.sqrt(self.d_model)\n",
    "    x = self.pe(x)\n",
    "\n",
    "    tgt_mask = self.transformer.generate_square_subsequent_mask(x.size(1))\n",
    "    \n",
    "    l1 = self.transformer.decoder.layers[0]\n",
    "    l2 = self.transformer.decoder.layers[1]\n",
    "    \n",
    "    x, p_attn1 = decoder_forward(l1, x.transpose(0, 1), memory, \n",
    "           tgt_mask=tgt_mask,\n",
    "           tgt_key_padding_mask=(tgt == pad_id),\n",
    "           memory_key_padding_mask=memory_mask\n",
    "           )\n",
    "    x, p_attn2 = decoder_forward(l2, x, memory, \n",
    "           tgt_mask=tgt_mask,\n",
    "           tgt_key_padding_mask=(tgt == pad_id),\n",
    "           memory_key_padding_mask=memory_mask\n",
    "           )\n",
    "    return self.lin(x.transpose(0, 1)), p_attn1, p_attn2\n",
    "\n",
    "def greedy_decoding(self, src, start_token):\n",
    "    N = src.size(0)\n",
    "    mem, mk = self.encode(src)\n",
    "    preds = tokenizer.to_tensor([start_token]*N)\n",
    "    \n",
    "    attn1 = []\n",
    "    attn2 = []\n",
    "    for _ in range(10):\n",
    "        y_pred, p_attn1, p_attn2 = decode(self, preds, mem, mk)\n",
    "        attn1.append(p_attn1[:, -1:, :])\n",
    "        attn2.append(p_attn2[:, -1:, :])\n",
    "        t_pred = torch.argmax(y_pred[:,-1,:], axis=-1, keepdims=True)\n",
    "        preds = torch.cat([preds, t_pred], axis=1)            \n",
    "    return tokenizer.to_string(preds[:, 1:]), torch.cat(attn1, dim=1), torch.cat(attn2, dim=1)\n",
    "\n",
    "def draw(data, x, y):\n",
    "    input_len = len(x)\n",
    "    plt.matshow(data[:, -input_len:], cmap=plt.cm.binary)\n",
    "    plt.xticks(range(len(x)), x)\n",
    "    plt.yticks(range(len(y)), y)\n",
    "    plt.show()\n",
    "    \n",
    "sample = ['september 1, 1990', 'Oct, 6, 1994', '2990, september 7']\n",
    "test = tokenizer.to_tensor(sample, maxlen=29)\n",
    "res, attn1, attn2 = greedy_decoding(model, test, '_')"
   ]
  },
  {
   "cell_type": "code",
   "execution_count": 97,
   "metadata": {},
   "outputs": [
    {
     "data": {
      "image/png": "[encoded data removed]",
      "text/plain": [
       "<Figure size 489.6x288 with 1 Axes>"
      ]
     },
     "metadata": {
      "needs_background": "light"
     },
     "output_type": "display_data"
    }
   ],
   "source": [
    "batch = 2\n",
    "draw(attn2[batch].data.numpy(), list(sample[batch]), list(res[batch]))"
   ]
  },
  {
   "cell_type": "code",
   "execution_count": 98,
   "metadata": {},
   "outputs": [
    {
     "data": {
      "image/png": "[encoded data removed]",
      "text/plain": [
       "<Figure size 489.6x288 with 1 Axes>"
      ]
     },
     "metadata": {
      "needs_background": "light"
     },
     "output_type": "display_data"
    }
   ],
   "source": [
    "draw(attn1[batch].data.numpy(), list(sample[batch]), list(res[batch]))"
   ]
  }
 ],
 "metadata": {
  "kernelspec": {
   "display_name": "Python 3",
   "language": "python",
   "name": "python3"
  },
  "language_info": {
   "codemirror_mode": {
    "name": "ipython",
    "version": 3
   },
   "file_extension": ".py",
   "mimetype": "text/x-python",
   "name": "python",
   "nbconvert_exporter": "python",
   "pygments_lexer": "ipython3",
   "version": "3.7.4"
  },
  "toc": {
   "base_numbering": 1,
   "nav_menu": {},
   "number_sections": true,
   "sideBar": true,
   "skip_h1_title": false,
   "title_cell": "Table of Contents",
   "title_sidebar": "Contents",
   "toc_cell": false,
   "toc_position": {},
   "toc_section_display": true,
   "toc_window_display": false
  }
 },
 "nbformat": 4,
 "nbformat_minor": 4
}
